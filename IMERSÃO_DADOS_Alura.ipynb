{
  "nbformat": 4,
  "nbformat_minor": 0,
  "metadata": {
    "colab": {
      "name": "IMERSÃO DADOS - Alura.ipynb",
      "provenance": [],
      "authorship_tag": "ABX9TyNIMLcF43PGfaLfuwRDFI2O",
      "include_colab_link": true
    },
    "kernelspec": {
      "name": "python3",
      "display_name": "Python 3"
    }
  },
  "cells": [
    {
      "cell_type": "markdown",
      "metadata": {
        "id": "view-in-github",
        "colab_type": "text"
      },
      "source": [
        "<a href=\"https://colab.research.google.com/github/Daniel-ASG/IMERSAO_DADOS_ALURA/blob/main/IMERS%C3%83O_DADOS_Alura.ipynb\" target=\"_parent\"><img src=\"https://colab.research.google.com/assets/colab-badge.svg\" alt=\"Open In Colab\"/></a>"
      ]
    },
    {
      "cell_type": "markdown",
      "metadata": {
        "id": "z6m4dL_96tqV"
      },
      "source": [
        "#IMERSÃO DE DADOS ALURA"
      ]
    },
    {
      "cell_type": "markdown",
      "metadata": {
        "id": "en9AWXlO62ko"
      },
      "source": [
        "####Vamos iniciar carregando algumas bibliotecas e criando o primeiro Dataset.\n",
        "Como a base de dados é imensa (possui mais de 3GB :flushed:) criaremos alguns Datasets ao longo da análise a medida que for necessário carregar novos dados"
      ]
    },
    {
      "cell_type": "code",
      "metadata": {
        "id": "zCnjGAz46q7W"
      },
      "source": [
        ""
      ],
      "execution_count": null,
      "outputs": []
    }
  ]
}