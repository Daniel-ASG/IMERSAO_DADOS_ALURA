{
  "nbformat": 4,
  "nbformat_minor": 0,
  "metadata": {
    "colab": {
      "name": "IMERSÃO DADOS - Aula02.ipynb",
      "provenance": [],
      "collapsed_sections": [
        "-oC76B_Dfojm"
      ],
      "include_colab_link": true
    },
    "kernelspec": {
      "name": "python3",
      "display_name": "Python 3"
    }
  },
  "cells": [
    {
      "cell_type": "markdown",
      "metadata": {
        "id": "view-in-github",
        "colab_type": "text"
      },
      "source": [
        "<a href=\"https://colab.research.google.com/github/Daniel-ASG/IMERSAO_DADOS_ALURA/blob/main/IMERS%C3%83O_DADOS_Aula02.ipynb\" target=\"_parent\"><img src=\"https://colab.research.google.com/assets/colab-badge.svg\" alt=\"Open In Colab\"/></a>"
      ]
    },
    {
      "cell_type": "markdown",
      "metadata": {
        "id": "-oC76B_Dfojm"
      },
      "source": [
        "## Aula01"
      ]
    },
    {
      "cell_type": "code",
      "metadata": {
        "id": "z9XYg7h2FcNq"
      },
      "source": [
        "# import pandas as pd\n",
        "\n",
        "# fonte = \"https://github.com/alura-cursos/imersao-dados-2-2020/blob/master/MICRODADOS_ENEM_2019_SAMPLE_43278.csv?raw=true\"\n",
        "\n",
        "# dados = pd.read_csv(fonte)\n",
        "# dados.head()"
      ],
      "execution_count": 8,
      "outputs": []
    },
    {
      "cell_type": "code",
      "metadata": {
        "id": "iKsMyeSjJvCa"
      },
      "source": [
        "# dados.columns.values"
      ],
      "execution_count": 9,
      "outputs": []
    },
    {
      "cell_type": "code",
      "metadata": {
        "id": "8SO1d1cLEGWN",
        "outputId": "291f2b27-1285-43a0-d53a-abfd79d8bdc1",
        "colab": {
          "base_uri": "https://localhost:8080/",
          "height": 232
        }
      },
      "source": [
        "import pandas as pd\n",
        "\n",
        "colunas = ['NU_INSCRICAO', 'NO_MUNICIPIO_RESIDENCIA', 'SG_UF_RESIDENCIA',\n",
        "       'NU_IDADE', 'TP_SEXO', 'TP_ESTADO_CIVIL', 'TP_COR_RACA',\n",
        "       'NO_MUNICIPIO_NASCIMENTO', 'SG_UF_NASCIMENTO',\n",
        "       'TP_ST_CONCLUSAO', 'TP_ANO_CONCLUIU', 'TP_ESCOLA', 'TP_ENSINO',\n",
        "       'IN_TREINEIRO', 'NO_MUNICIPIO_ESC', 'SG_UF_ESC',\n",
        "       'SG_UF_PROVA', 'TP_PRESENCA_CN', 'TP_PRESENCA_CH', 'TP_PRESENCA_LC',\n",
        "       'TP_PRESENCA_MT', 'NU_NOTA_CN', 'NU_NOTA_CH', 'NU_NOTA_LC',\n",
        "       'NU_NOTA_MT', 'TP_LINGUA', 'NU_NOTA_REDACAO', 'Q001', 'Q002', 'Q003', 'Q004', 'Q005', 'Q006',\n",
        "       'Q007', 'Q008', 'Q009', 'Q010', 'Q011', 'Q012', 'Q013', 'Q014',\n",
        "       'Q015', 'Q016', 'Q017', 'Q018', 'Q019', 'Q020', 'Q021', 'Q022',\n",
        "       'Q023', 'Q024', 'Q025']\n",
        "\n",
        "dados = pd.read_csv('/content/drive/My Drive/Analise_de_dados/microdados_enem_2019/DADOS/MICRODADOS_ENEM_2019.csv', sep=\";\", encoding='ISO-8859-1', usecols=colunas)\n",
        "dados.head()"
      ],
      "execution_count": 10,
      "outputs": [
        {
          "output_type": "execute_result",
          "data": {
            "text/html": [
              "<div>\n",
              "<style scoped>\n",
              "    .dataframe tbody tr th:only-of-type {\n",
              "        vertical-align: middle;\n",
              "    }\n",
              "\n",
              "    .dataframe tbody tr th {\n",
              "        vertical-align: top;\n",
              "    }\n",
              "\n",
              "    .dataframe thead th {\n",
              "        text-align: right;\n",
              "    }\n",
              "</style>\n",
              "<table border=\"1\" class=\"dataframe\">\n",
              "  <thead>\n",
              "    <tr style=\"text-align: right;\">\n",
              "      <th></th>\n",
              "      <th>NU_INSCRICAO</th>\n",
              "      <th>NO_MUNICIPIO_RESIDENCIA</th>\n",
              "      <th>SG_UF_RESIDENCIA</th>\n",
              "      <th>NU_IDADE</th>\n",
              "      <th>TP_SEXO</th>\n",
              "      <th>TP_ESTADO_CIVIL</th>\n",
              "      <th>TP_COR_RACA</th>\n",
              "      <th>NO_MUNICIPIO_NASCIMENTO</th>\n",
              "      <th>SG_UF_NASCIMENTO</th>\n",
              "      <th>TP_ST_CONCLUSAO</th>\n",
              "      <th>TP_ANO_CONCLUIU</th>\n",
              "      <th>TP_ESCOLA</th>\n",
              "      <th>TP_ENSINO</th>\n",
              "      <th>IN_TREINEIRO</th>\n",
              "      <th>NO_MUNICIPIO_ESC</th>\n",
              "      <th>SG_UF_ESC</th>\n",
              "      <th>SG_UF_PROVA</th>\n",
              "      <th>TP_PRESENCA_CN</th>\n",
              "      <th>TP_PRESENCA_CH</th>\n",
              "      <th>TP_PRESENCA_LC</th>\n",
              "      <th>TP_PRESENCA_MT</th>\n",
              "      <th>NU_NOTA_CN</th>\n",
              "      <th>NU_NOTA_CH</th>\n",
              "      <th>NU_NOTA_LC</th>\n",
              "      <th>NU_NOTA_MT</th>\n",
              "      <th>TP_LINGUA</th>\n",
              "      <th>NU_NOTA_REDACAO</th>\n",
              "      <th>Q001</th>\n",
              "      <th>Q002</th>\n",
              "      <th>Q003</th>\n",
              "      <th>Q004</th>\n",
              "      <th>Q005</th>\n",
              "      <th>Q006</th>\n",
              "      <th>Q007</th>\n",
              "      <th>Q008</th>\n",
              "      <th>Q009</th>\n",
              "      <th>Q010</th>\n",
              "      <th>Q011</th>\n",
              "      <th>Q012</th>\n",
              "      <th>Q013</th>\n",
              "      <th>Q014</th>\n",
              "      <th>Q015</th>\n",
              "      <th>Q016</th>\n",
              "      <th>Q017</th>\n",
              "      <th>Q018</th>\n",
              "      <th>Q019</th>\n",
              "      <th>Q020</th>\n",
              "      <th>Q021</th>\n",
              "      <th>Q022</th>\n",
              "      <th>Q023</th>\n",
              "      <th>Q024</th>\n",
              "      <th>Q025</th>\n",
              "    </tr>\n",
              "  </thead>\n",
              "  <tbody>\n",
              "    <tr>\n",
              "      <th>0</th>\n",
              "      <td>190001004627</td>\n",
              "      <td>Santarém</td>\n",
              "      <td>PA</td>\n",
              "      <td>21</td>\n",
              "      <td>M</td>\n",
              "      <td>1</td>\n",
              "      <td>3</td>\n",
              "      <td>NaN</td>\n",
              "      <td>NaN</td>\n",
              "      <td>1</td>\n",
              "      <td>3</td>\n",
              "      <td>1</td>\n",
              "      <td>NaN</td>\n",
              "      <td>0</td>\n",
              "      <td>NaN</td>\n",
              "      <td>NaN</td>\n",
              "      <td>PA</td>\n",
              "      <td>1</td>\n",
              "      <td>1</td>\n",
              "      <td>1</td>\n",
              "      <td>1</td>\n",
              "      <td>472.9</td>\n",
              "      <td>466.0</td>\n",
              "      <td>497.3</td>\n",
              "      <td>369.1</td>\n",
              "      <td>0</td>\n",
              "      <td>780.0</td>\n",
              "      <td>D</td>\n",
              "      <td>E</td>\n",
              "      <td>A</td>\n",
              "      <td>A</td>\n",
              "      <td>7</td>\n",
              "      <td>B</td>\n",
              "      <td>A</td>\n",
              "      <td>B</td>\n",
              "      <td>C</td>\n",
              "      <td>A</td>\n",
              "      <td>A</td>\n",
              "      <td>B</td>\n",
              "      <td>A</td>\n",
              "      <td>B</td>\n",
              "      <td>A</td>\n",
              "      <td>A</td>\n",
              "      <td>A</td>\n",
              "      <td>A</td>\n",
              "      <td>C</td>\n",
              "      <td>B</td>\n",
              "      <td>A</td>\n",
              "      <td>D</td>\n",
              "      <td>A</td>\n",
              "      <td>B</td>\n",
              "      <td>A</td>\n",
              "    </tr>\n",
              "    <tr>\n",
              "      <th>1</th>\n",
              "      <td>190001004628</td>\n",
              "      <td>Mãe do Rio</td>\n",
              "      <td>PA</td>\n",
              "      <td>16</td>\n",
              "      <td>F</td>\n",
              "      <td>1</td>\n",
              "      <td>3</td>\n",
              "      <td>Paragominas</td>\n",
              "      <td>PA</td>\n",
              "      <td>3</td>\n",
              "      <td>0</td>\n",
              "      <td>1</td>\n",
              "      <td>NaN</td>\n",
              "      <td>1</td>\n",
              "      <td>NaN</td>\n",
              "      <td>NaN</td>\n",
              "      <td>PA</td>\n",
              "      <td>1</td>\n",
              "      <td>1</td>\n",
              "      <td>1</td>\n",
              "      <td>1</td>\n",
              "      <td>358.9</td>\n",
              "      <td>495.4</td>\n",
              "      <td>482.3</td>\n",
              "      <td>416.5</td>\n",
              "      <td>1</td>\n",
              "      <td>600.0</td>\n",
              "      <td>D</td>\n",
              "      <td>E</td>\n",
              "      <td>A</td>\n",
              "      <td>A</td>\n",
              "      <td>5</td>\n",
              "      <td>B</td>\n",
              "      <td>A</td>\n",
              "      <td>B</td>\n",
              "      <td>C</td>\n",
              "      <td>A</td>\n",
              "      <td>A</td>\n",
              "      <td>B</td>\n",
              "      <td>A</td>\n",
              "      <td>B</td>\n",
              "      <td>A</td>\n",
              "      <td>A</td>\n",
              "      <td>A</td>\n",
              "      <td>A</td>\n",
              "      <td>B</td>\n",
              "      <td>B</td>\n",
              "      <td>A</td>\n",
              "      <td>B</td>\n",
              "      <td>A</td>\n",
              "      <td>A</td>\n",
              "      <td>A</td>\n",
              "    </tr>\n",
              "    <tr>\n",
              "      <th>2</th>\n",
              "      <td>190001004629</td>\n",
              "      <td>Paragominas</td>\n",
              "      <td>PA</td>\n",
              "      <td>18</td>\n",
              "      <td>F</td>\n",
              "      <td>1</td>\n",
              "      <td>1</td>\n",
              "      <td>Paragominas</td>\n",
              "      <td>PA</td>\n",
              "      <td>2</td>\n",
              "      <td>0</td>\n",
              "      <td>3</td>\n",
              "      <td>1.0</td>\n",
              "      <td>0</td>\n",
              "      <td>Paragominas</td>\n",
              "      <td>PA</td>\n",
              "      <td>PA</td>\n",
              "      <td>1</td>\n",
              "      <td>1</td>\n",
              "      <td>1</td>\n",
              "      <td>1</td>\n",
              "      <td>574.2</td>\n",
              "      <td>538.7</td>\n",
              "      <td>582.6</td>\n",
              "      <td>571.5</td>\n",
              "      <td>0</td>\n",
              "      <td>640.0</td>\n",
              "      <td>H</td>\n",
              "      <td>E</td>\n",
              "      <td>A</td>\n",
              "      <td>D</td>\n",
              "      <td>3</td>\n",
              "      <td>C</td>\n",
              "      <td>D</td>\n",
              "      <td>E</td>\n",
              "      <td>E</td>\n",
              "      <td>C</td>\n",
              "      <td>A</td>\n",
              "      <td>B</td>\n",
              "      <td>C</td>\n",
              "      <td>B</td>\n",
              "      <td>A</td>\n",
              "      <td>B</td>\n",
              "      <td>A</td>\n",
              "      <td>A</td>\n",
              "      <td>D</td>\n",
              "      <td>B</td>\n",
              "      <td>B</td>\n",
              "      <td>D</td>\n",
              "      <td>A</td>\n",
              "      <td>C</td>\n",
              "      <td>B</td>\n",
              "    </tr>\n",
              "    <tr>\n",
              "      <th>3</th>\n",
              "      <td>190001004630</td>\n",
              "      <td>São Sebastião da Boa Vista</td>\n",
              "      <td>PA</td>\n",
              "      <td>23</td>\n",
              "      <td>M</td>\n",
              "      <td>0</td>\n",
              "      <td>3</td>\n",
              "      <td>Belém</td>\n",
              "      <td>PA</td>\n",
              "      <td>2</td>\n",
              "      <td>0</td>\n",
              "      <td>2</td>\n",
              "      <td>1.0</td>\n",
              "      <td>0</td>\n",
              "      <td>São Sebastião da Boa Vista</td>\n",
              "      <td>PA</td>\n",
              "      <td>PA</td>\n",
              "      <td>0</td>\n",
              "      <td>0</td>\n",
              "      <td>0</td>\n",
              "      <td>0</td>\n",
              "      <td>NaN</td>\n",
              "      <td>NaN</td>\n",
              "      <td>NaN</td>\n",
              "      <td>NaN</td>\n",
              "      <td>1</td>\n",
              "      <td>NaN</td>\n",
              "      <td>D</td>\n",
              "      <td>D</td>\n",
              "      <td>A</td>\n",
              "      <td>B</td>\n",
              "      <td>3</td>\n",
              "      <td>C</td>\n",
              "      <td>A</td>\n",
              "      <td>B</td>\n",
              "      <td>C</td>\n",
              "      <td>A</td>\n",
              "      <td>A</td>\n",
              "      <td>B</td>\n",
              "      <td>A</td>\n",
              "      <td>A</td>\n",
              "      <td>A</td>\n",
              "      <td>A</td>\n",
              "      <td>A</td>\n",
              "      <td>A</td>\n",
              "      <td>C</td>\n",
              "      <td>A</td>\n",
              "      <td>A</td>\n",
              "      <td>D</td>\n",
              "      <td>A</td>\n",
              "      <td>A</td>\n",
              "      <td>A</td>\n",
              "    </tr>\n",
              "    <tr>\n",
              "      <th>4</th>\n",
              "      <td>190001004631</td>\n",
              "      <td>Juruti</td>\n",
              "      <td>PA</td>\n",
              "      <td>23</td>\n",
              "      <td>M</td>\n",
              "      <td>1</td>\n",
              "      <td>3</td>\n",
              "      <td>Juruti</td>\n",
              "      <td>PA</td>\n",
              "      <td>1</td>\n",
              "      <td>5</td>\n",
              "      <td>1</td>\n",
              "      <td>1.0</td>\n",
              "      <td>0</td>\n",
              "      <td>NaN</td>\n",
              "      <td>NaN</td>\n",
              "      <td>PA</td>\n",
              "      <td>0</td>\n",
              "      <td>0</td>\n",
              "      <td>0</td>\n",
              "      <td>0</td>\n",
              "      <td>NaN</td>\n",
              "      <td>NaN</td>\n",
              "      <td>NaN</td>\n",
              "      <td>NaN</td>\n",
              "      <td>1</td>\n",
              "      <td>NaN</td>\n",
              "      <td>B</td>\n",
              "      <td>C</td>\n",
              "      <td>A</td>\n",
              "      <td>A</td>\n",
              "      <td>5</td>\n",
              "      <td>C</td>\n",
              "      <td>A</td>\n",
              "      <td>C</td>\n",
              "      <td>B</td>\n",
              "      <td>A</td>\n",
              "      <td>B</td>\n",
              "      <td>B</td>\n",
              "      <td>A</td>\n",
              "      <td>B</td>\n",
              "      <td>A</td>\n",
              "      <td>A</td>\n",
              "      <td>A</td>\n",
              "      <td>A</td>\n",
              "      <td>B</td>\n",
              "      <td>A</td>\n",
              "      <td>A</td>\n",
              "      <td>D</td>\n",
              "      <td>A</td>\n",
              "      <td>A</td>\n",
              "      <td>A</td>\n",
              "    </tr>\n",
              "  </tbody>\n",
              "</table>\n",
              "</div>"
            ],
            "text/plain": [
              "   NU_INSCRICAO     NO_MUNICIPIO_RESIDENCIA SG_UF_RESIDENCIA  ...  Q023 Q024  Q025\n",
              "0  190001004627                    Santarém               PA  ...     A    B     A\n",
              "1  190001004628                  Mãe do Rio               PA  ...     A    A     A\n",
              "2  190001004629                 Paragominas               PA  ...     A    C     B\n",
              "3  190001004630  São Sebastião da Boa Vista               PA  ...     A    A     A\n",
              "4  190001004631                      Juruti               PA  ...     A    A     A\n",
              "\n",
              "[5 rows x 52 columns]"
            ]
          },
          "metadata": {
            "tags": []
          },
          "execution_count": 10
        }
      ]
    },
    {
      "cell_type": "code",
      "metadata": {
        "id": "roHaxkDKHfDt",
        "outputId": "6fa9f9be-637a-4cfc-b532-f82c77369e8c",
        "colab": {
          "base_uri": "https://localhost:8080/",
          "height": 34
        }
      },
      "source": [
        "dados.shape"
      ],
      "execution_count": 11,
      "outputs": [
        {
          "output_type": "execute_result",
          "data": {
            "text/plain": [
              "(5095270, 52)"
            ]
          },
          "metadata": {
            "tags": []
          },
          "execution_count": 11
        }
      ]
    },
    {
      "cell_type": "code",
      "metadata": {
        "id": "nE1TlKlrHr1y",
        "outputId": "c25d4f0c-b107-4c3d-fcb3-ae53b0424c70",
        "colab": {
          "base_uri": "https://localhost:8080/",
          "height": 218
        }
      },
      "source": [
        "dados[\"SG_UF_RESIDENCIA\"]"
      ],
      "execution_count": 12,
      "outputs": [
        {
          "output_type": "execute_result",
          "data": {
            "text/plain": [
              "0          PA\n",
              "1          PA\n",
              "2          PA\n",
              "3          PA\n",
              "4          PA\n",
              "           ..\n",
              "5095265    BA\n",
              "5095266    BA\n",
              "5095267    BA\n",
              "5095268    BA\n",
              "5095269    BA\n",
              "Name: SG_UF_RESIDENCIA, Length: 5095270, dtype: object"
            ]
          },
          "metadata": {
            "tags": []
          },
          "execution_count": 12
        }
      ]
    },
    {
      "cell_type": "code",
      "metadata": {
        "id": "4RinKz2RKws6",
        "outputId": "b55b4843-43f5-4ffc-81a8-c7cade2046a5",
        "colab": {
          "base_uri": "https://localhost:8080/",
          "height": 402
        }
      },
      "source": [
        "dados[[\"SG_UF_RESIDENCIA\", \"Q025\"]]"
      ],
      "execution_count": 13,
      "outputs": [
        {
          "output_type": "execute_result",
          "data": {
            "text/html": [
              "<div>\n",
              "<style scoped>\n",
              "    .dataframe tbody tr th:only-of-type {\n",
              "        vertical-align: middle;\n",
              "    }\n",
              "\n",
              "    .dataframe tbody tr th {\n",
              "        vertical-align: top;\n",
              "    }\n",
              "\n",
              "    .dataframe thead th {\n",
              "        text-align: right;\n",
              "    }\n",
              "</style>\n",
              "<table border=\"1\" class=\"dataframe\">\n",
              "  <thead>\n",
              "    <tr style=\"text-align: right;\">\n",
              "      <th></th>\n",
              "      <th>SG_UF_RESIDENCIA</th>\n",
              "      <th>Q025</th>\n",
              "    </tr>\n",
              "  </thead>\n",
              "  <tbody>\n",
              "    <tr>\n",
              "      <th>0</th>\n",
              "      <td>PA</td>\n",
              "      <td>A</td>\n",
              "    </tr>\n",
              "    <tr>\n",
              "      <th>1</th>\n",
              "      <td>PA</td>\n",
              "      <td>A</td>\n",
              "    </tr>\n",
              "    <tr>\n",
              "      <th>2</th>\n",
              "      <td>PA</td>\n",
              "      <td>B</td>\n",
              "    </tr>\n",
              "    <tr>\n",
              "      <th>3</th>\n",
              "      <td>PA</td>\n",
              "      <td>A</td>\n",
              "    </tr>\n",
              "    <tr>\n",
              "      <th>4</th>\n",
              "      <td>PA</td>\n",
              "      <td>A</td>\n",
              "    </tr>\n",
              "    <tr>\n",
              "      <th>...</th>\n",
              "      <td>...</td>\n",
              "      <td>...</td>\n",
              "    </tr>\n",
              "    <tr>\n",
              "      <th>5095265</th>\n",
              "      <td>BA</td>\n",
              "      <td>B</td>\n",
              "    </tr>\n",
              "    <tr>\n",
              "      <th>5095266</th>\n",
              "      <td>BA</td>\n",
              "      <td>A</td>\n",
              "    </tr>\n",
              "    <tr>\n",
              "      <th>5095267</th>\n",
              "      <td>BA</td>\n",
              "      <td>B</td>\n",
              "    </tr>\n",
              "    <tr>\n",
              "      <th>5095268</th>\n",
              "      <td>BA</td>\n",
              "      <td>B</td>\n",
              "    </tr>\n",
              "    <tr>\n",
              "      <th>5095269</th>\n",
              "      <td>BA</td>\n",
              "      <td>B</td>\n",
              "    </tr>\n",
              "  </tbody>\n",
              "</table>\n",
              "<p>5095270 rows × 2 columns</p>\n",
              "</div>"
            ],
            "text/plain": [
              "        SG_UF_RESIDENCIA Q025\n",
              "0                     PA    A\n",
              "1                     PA    A\n",
              "2                     PA    B\n",
              "3                     PA    A\n",
              "4                     PA    A\n",
              "...                  ...  ...\n",
              "5095265               BA    B\n",
              "5095266               BA    A\n",
              "5095267               BA    B\n",
              "5095268               BA    B\n",
              "5095269               BA    B\n",
              "\n",
              "[5095270 rows x 2 columns]"
            ]
          },
          "metadata": {
            "tags": []
          },
          "execution_count": 13
        }
      ]
    },
    {
      "cell_type": "code",
      "metadata": {
        "id": "9XyBWm9DL3hI",
        "outputId": "12007b6e-d7a2-4853-a73b-67ee4f905a7e",
        "colab": {
          "base_uri": "https://localhost:8080/",
          "height": 218
        }
      },
      "source": [
        "dados[\"SG_UF_RESIDENCIA\"]"
      ],
      "execution_count": 14,
      "outputs": [
        {
          "output_type": "execute_result",
          "data": {
            "text/plain": [
              "0          PA\n",
              "1          PA\n",
              "2          PA\n",
              "3          PA\n",
              "4          PA\n",
              "           ..\n",
              "5095265    BA\n",
              "5095266    BA\n",
              "5095267    BA\n",
              "5095268    BA\n",
              "5095269    BA\n",
              "Name: SG_UF_RESIDENCIA, Length: 5095270, dtype: object"
            ]
          },
          "metadata": {
            "tags": []
          },
          "execution_count": 14
        }
      ]
    },
    {
      "cell_type": "code",
      "metadata": {
        "id": "WEH6_lABMT2T",
        "outputId": "fad7f4e4-f6f0-45ec-b576-ba32528dc451",
        "colab": {
          "base_uri": "https://localhost:8080/",
          "height": 67
        }
      },
      "source": [
        "dados[\"SG_UF_RESIDENCIA\"].unique()"
      ],
      "execution_count": 15,
      "outputs": [
        {
          "output_type": "execute_result",
          "data": {
            "text/plain": [
              "array(['PA', 'TO', 'MA', 'MG', 'CE', 'AM', 'GO', 'RO', 'DF', 'SC', 'PR',\n",
              "       'AP', 'PI', 'RJ', 'ES', 'RR', 'SP', 'RS', 'MT', 'AC', 'MS', 'BA',\n",
              "       'PB', 'PE', 'RN', 'SE', 'AL'], dtype=object)"
            ]
          },
          "metadata": {
            "tags": []
          },
          "execution_count": 15
        }
      ]
    },
    {
      "cell_type": "code",
      "metadata": {
        "id": "kDXEe1rxMY0D",
        "outputId": "4e649791-3685-47ee-999e-866025f9649d",
        "colab": {
          "base_uri": "https://localhost:8080/",
          "height": 34
        }
      },
      "source": [
        "len(dados[\"SG_UF_RESIDENCIA\"].unique())"
      ],
      "execution_count": 16,
      "outputs": [
        {
          "output_type": "execute_result",
          "data": {
            "text/plain": [
              "27"
            ]
          },
          "metadata": {
            "tags": []
          },
          "execution_count": 16
        }
      ]
    },
    {
      "cell_type": "code",
      "metadata": {
        "id": "yyQaMKoyMeaK",
        "outputId": "13cd6432-4aa8-41b3-a555-dce966c507ab",
        "colab": {
          "base_uri": "https://localhost:8080/",
          "height": 487
        }
      },
      "source": [
        "dados[\"SG_UF_RESIDENCIA\"].value_counts()"
      ],
      "execution_count": 17,
      "outputs": [
        {
          "output_type": "execute_result",
          "data": {
            "text/plain": [
              "SP    813772\n",
              "MG    538896\n",
              "BA    398095\n",
              "RJ    338710\n",
              "CE    295870\n",
              "PA    281518\n",
              "PE    271727\n",
              "MA    219673\n",
              "RS    218763\n",
              "PR    210080\n",
              "GO    170147\n",
              "PB    147780\n",
              "PI    121181\n",
              "RN    119179\n",
              "AM    118087\n",
              "SC    109515\n",
              "ES    102435\n",
              "DF     94352\n",
              "AL     91707\n",
              "MT     88349\n",
              "SE     75895\n",
              "MS     70157\n",
              "RO     58885\n",
              "TO     47181\n",
              "AP     42140\n",
              "AC     38229\n",
              "RR     12947\n",
              "Name: SG_UF_RESIDENCIA, dtype: int64"
            ]
          },
          "metadata": {
            "tags": []
          },
          "execution_count": 17
        }
      ]
    },
    {
      "cell_type": "code",
      "metadata": {
        "id": "ML7wBPY1MrZL",
        "outputId": "a60f5f89-0262-4ea1-9741-900bc2514bdc",
        "colab": {
          "base_uri": "https://localhost:8080/",
          "height": 218
        }
      },
      "source": [
        "dados[\"NU_IDADE\"].value_counts()"
      ],
      "execution_count": 18,
      "outputs": [
        {
          "output_type": "execute_result",
          "data": {
            "text/plain": [
              "18    864186\n",
              "17    847303\n",
              "19    577161\n",
              "20    409385\n",
              "16    316437\n",
              "       ...  \n",
              "91         2\n",
              "92         1\n",
              "87         1\n",
              "88         1\n",
              "94         1\n",
              "Name: NU_IDADE, Length: 91, dtype: int64"
            ]
          },
          "metadata": {
            "tags": []
          },
          "execution_count": 18
        }
      ]
    },
    {
      "cell_type": "code",
      "metadata": {
        "id": "xj2Lmq2_NNPk",
        "outputId": "b7a87386-cb96-44ee-a66e-120e3cde5c3f",
        "colab": {
          "base_uri": "https://localhost:8080/",
          "height": 218
        }
      },
      "source": [
        "dados[\"NU_IDADE\"].value_counts().sort_index()"
      ],
      "execution_count": 19,
      "outputs": [
        {
          "output_type": "execute_result",
          "data": {
            "text/plain": [
              "1     2\n",
              "2     4\n",
              "3     4\n",
              "4     2\n",
              "5     5\n",
              "     ..\n",
              "87    1\n",
              "88    1\n",
              "91    2\n",
              "92    1\n",
              "94    1\n",
              "Name: NU_IDADE, Length: 91, dtype: int64"
            ]
          },
          "metadata": {
            "tags": []
          },
          "execution_count": 19
        }
      ]
    },
    {
      "cell_type": "code",
      "metadata": {
        "id": "ioQ7i7Q1Oln8",
        "outputId": "83c24cfb-260e-44d1-8942-2081802d265c",
        "colab": {
          "base_uri": "https://localhost:8080/",
          "height": 293
        }
      },
      "source": [
        "dados[\"NU_IDADE\"].hist()"
      ],
      "execution_count": 20,
      "outputs": [
        {
          "output_type": "execute_result",
          "data": {
            "text/plain": [
              "<matplotlib.axes._subplots.AxesSubplot at 0x7fc42b1ccef0>"
            ]
          },
          "metadata": {
            "tags": []
          },
          "execution_count": 20
        },
        {
          "output_type": "display_data",
          "data": {
            "image/png": "[encoded data removed]",
            "text/plain": [
              "<Figure size 432x288 with 1 Axes>"
            ]
          },
          "metadata": {
            "tags": [],
            "needs_background": "light"
          }
        }
      ]
    },
    {
      "cell_type": "code",
      "metadata": {
        "id": "TYd8dPfNO1-n",
        "outputId": "0e43a823-8fa1-4781-a6f8-f82c23299a91",
        "colab": {
          "base_uri": "https://localhost:8080/",
          "height": 249
        }
      },
      "source": [
        "dados[\"NU_IDADE\"].hist(bins = 50, figsize = (25,8))"
      ],
      "execution_count": 56,
      "outputs": [
        {
          "output_type": "execute_result",
          "data": {
            "text/plain": [
              "<matplotlib.axes._subplots.AxesSubplot at 0x7fc412930240>"
            ]
          },
          "metadata": {
            "tags": []
          },
          "execution_count": 56
        },
        {
          "output_type": "display_data",
          "data": {
            "image/png": "[encoded data removed]",
            "text/plain": [
              "<Figure size 1800x576 with 1 Axes>"
            ]
          },
          "metadata": {
            "tags": [],
            "needs_background": "light"
          }
        }
      ]
    },
    {
      "cell_type": "code",
      "metadata": {
        "id": "Al4Yeg7wSFN6"
      },
      "source": [
        ""
      ],
      "execution_count": 21,
      "outputs": []
    },
    {
      "cell_type": "code",
      "metadata": {
        "id": "VrQVzO4vNyTP",
        "outputId": "38070014-3e19-4072-dabf-109de0d1b038",
        "colab": {
          "base_uri": "https://localhost:8080/",
          "height": 218
        }
      },
      "source": [
        "dados.query(\"IN_TREINEIRO == 1\")[\"NU_IDADE\"].value_counts().sort_index()"
      ],
      "execution_count": 22,
      "outputs": [
        {
          "output_type": "execute_result",
          "data": {
            "text/plain": [
              "1     1\n",
              "2     3\n",
              "4     1\n",
              "5     1\n",
              "6     7\n",
              "     ..\n",
              "68    2\n",
              "69    2\n",
              "70    1\n",
              "72    1\n",
              "73    1\n",
              "Name: NU_IDADE, Length: 70, dtype: int64"
            ]
          },
          "metadata": {
            "tags": []
          },
          "execution_count": 22
        }
      ]
    },
    {
      "cell_type": "code",
      "metadata": {
        "id": "NCPdzdkeNioz",
        "outputId": "c734a4e1-ec5d-47b5-9f61-f73e42474f63",
        "colab": {
          "base_uri": "https://localhost:8080/",
          "height": 391
        }
      },
      "source": [
        "dados[\"NU_NOTA_REDACAO\"].hist(bins = 20, figsize=(8, 6))"
      ],
      "execution_count": 58,
      "outputs": [
        {
          "output_type": "execute_result",
          "data": {
            "text/plain": [
              "<matplotlib.axes._subplots.AxesSubplot at 0x7fc41269e2b0>"
            ]
          },
          "metadata": {
            "tags": []
          },
          "execution_count": 58
        },
        {
          "output_type": "display_data",
          "data": {
            "image/png": "[encoded data removed]",
            "text/plain": [
              "<Figure size 576x432 with 1 Axes>"
            ]
          },
          "metadata": {
            "tags": [],
            "needs_background": "light"
          }
        }
      ]
    },
    {
      "cell_type": "code",
      "metadata": {
        "id": "2tJt5q4dSolR",
        "outputId": "099306f6-4326-4b64-babb-d5c4d834a082",
        "colab": {
          "base_uri": "https://localhost:8080/",
          "height": 402
        }
      },
      "source": [
        "dados[\"NU_NOTA_LC\"].hist(bins = 20, figsize=(8, 6))"
      ],
      "execution_count": 24,
      "outputs": [
        {
          "output_type": "execute_result",
          "data": {
            "text/plain": [
              "<matplotlib.axes._subplots.AxesSubplot at 0x7fc42646c080>"
            ]
          },
          "metadata": {
            "tags": []
          },
          "execution_count": 24
        },
        {
          "output_type": "display_data",
          "data": {
            "image/png": "[encoded data removed]",
            "text/plain": [
              "<Figure size 576x432 with 1 Axes>"
            ]
          },
          "metadata": {
            "tags": [],
            "needs_background": "light"
          }
        }
      ]
    },
    {
      "cell_type": "code",
      "metadata": {
        "id": "BDLcSca0S8nd",
        "outputId": "b9e41515-a52f-47fc-9fe6-034b1a896a0a",
        "colab": {
          "base_uri": "https://localhost:8080/",
          "height": 34
        }
      },
      "source": [
        "dados[\"NU_NOTA_REDACAO\"].mean()"
      ],
      "execution_count": 25,
      "outputs": [
        {
          "output_type": "execute_result",
          "data": {
            "text/plain": [
              "571.1883479168748"
            ]
          },
          "metadata": {
            "tags": []
          },
          "execution_count": 25
        }
      ]
    },
    {
      "cell_type": "code",
      "metadata": {
        "id": "Vz4VGeogTHRw",
        "outputId": "6035d135-b4ef-4139-cd95-ae75cc283ddc",
        "colab": {
          "base_uri": "https://localhost:8080/",
          "height": 34
        }
      },
      "source": [
        "dados[\"NU_NOTA_REDACAO\"].std()"
      ],
      "execution_count": 26,
      "outputs": [
        {
          "output_type": "execute_result",
          "data": {
            "text/plain": [
              "188.76327214931834"
            ]
          },
          "metadata": {
            "tags": []
          },
          "execution_count": 26
        }
      ]
    },
    {
      "cell_type": "code",
      "metadata": {
        "id": "YeKjZt4oTS5o",
        "outputId": "540c2327-912b-475b-f977-42eea97331fa",
        "colab": {
          "base_uri": "https://localhost:8080/",
          "height": 284
        }
      },
      "source": [
        "provas = [\"NU_NOTA_CN\",\"NU_NOTA_CH\",\"NU_NOTA_MT\",\"NU_NOTA_LC\",\"NU_NOTA_REDACAO\"]\n",
        "\n",
        "pd.options.display.float_format = '{:.2f}'.format # Formatar / suprimir notação científica dos resultados\n",
        "dados[provas].describe()"
      ],
      "execution_count": 59,
      "outputs": [
        {
          "output_type": "execute_result",
          "data": {
            "text/html": [
              "<div>\n",
              "<style scoped>\n",
              "    .dataframe tbody tr th:only-of-type {\n",
              "        vertical-align: middle;\n",
              "    }\n",
              "\n",
              "    .dataframe tbody tr th {\n",
              "        vertical-align: top;\n",
              "    }\n",
              "\n",
              "    .dataframe thead th {\n",
              "        text-align: right;\n",
              "    }\n",
              "</style>\n",
              "<table border=\"1\" class=\"dataframe\">\n",
              "  <thead>\n",
              "    <tr style=\"text-align: right;\">\n",
              "      <th></th>\n",
              "      <th>NU_NOTA_CN</th>\n",
              "      <th>NU_NOTA_CH</th>\n",
              "      <th>NU_NOTA_MT</th>\n",
              "      <th>NU_NOTA_LC</th>\n",
              "      <th>NU_NOTA_REDACAO</th>\n",
              "    </tr>\n",
              "  </thead>\n",
              "  <tbody>\n",
              "    <tr>\n",
              "      <th>count</th>\n",
              "      <td>3710433.00</td>\n",
              "      <td>3923145.00</td>\n",
              "      <td>3710433.00</td>\n",
              "      <td>3923145.00</td>\n",
              "      <td>3923144.00</td>\n",
              "    </tr>\n",
              "    <tr>\n",
              "      <th>mean</th>\n",
              "      <td>477.82</td>\n",
              "      <td>507.25</td>\n",
              "      <td>523.12</td>\n",
              "      <td>520.52</td>\n",
              "      <td>571.19</td>\n",
              "    </tr>\n",
              "    <tr>\n",
              "      <th>std</th>\n",
              "      <td>76.10</td>\n",
              "      <td>82.41</td>\n",
              "      <td>109.06</td>\n",
              "      <td>64.15</td>\n",
              "      <td>188.76</td>\n",
              "    </tr>\n",
              "    <tr>\n",
              "      <th>min</th>\n",
              "      <td>0.00</td>\n",
              "      <td>0.00</td>\n",
              "      <td>0.00</td>\n",
              "      <td>0.00</td>\n",
              "      <td>0.00</td>\n",
              "    </tr>\n",
              "    <tr>\n",
              "      <th>25%</th>\n",
              "      <td>417.80</td>\n",
              "      <td>447.90</td>\n",
              "      <td>435.10</td>\n",
              "      <td>483.50</td>\n",
              "      <td>480.00</td>\n",
              "    </tr>\n",
              "    <tr>\n",
              "      <th>50%</th>\n",
              "      <td>470.30</td>\n",
              "      <td>510.60</td>\n",
              "      <td>501.10</td>\n",
              "      <td>526.20</td>\n",
              "      <td>580.00</td>\n",
              "    </tr>\n",
              "    <tr>\n",
              "      <th>75%</th>\n",
              "      <td>533.20</td>\n",
              "      <td>566.60</td>\n",
              "      <td>597.80</td>\n",
              "      <td>565.30</td>\n",
              "      <td>680.00</td>\n",
              "    </tr>\n",
              "    <tr>\n",
              "      <th>max</th>\n",
              "      <td>860.90</td>\n",
              "      <td>835.10</td>\n",
              "      <td>985.50</td>\n",
              "      <td>801.70</td>\n",
              "      <td>1000.00</td>\n",
              "    </tr>\n",
              "  </tbody>\n",
              "</table>\n",
              "</div>"
            ],
            "text/plain": [
              "       NU_NOTA_CN  NU_NOTA_CH  NU_NOTA_MT  NU_NOTA_LC  NU_NOTA_REDACAO\n",
              "count  3710433.00  3923145.00  3710433.00  3923145.00       3923144.00\n",
              "mean       477.82      507.25      523.12      520.52           571.19\n",
              "std         76.10       82.41      109.06       64.15           188.76\n",
              "min          0.00        0.00        0.00        0.00             0.00\n",
              "25%        417.80      447.90      435.10      483.50           480.00\n",
              "50%        470.30      510.60      501.10      526.20           580.00\n",
              "75%        533.20      566.60      597.80      565.30           680.00\n",
              "max        860.90      835.10      985.50      801.70          1000.00"
            ]
          },
          "metadata": {
            "tags": []
          },
          "execution_count": 59
        }
      ]
    },
    {
      "cell_type": "code",
      "metadata": {
        "id": "FMaMoSUyUD_8",
        "outputId": "588bd854-4a79-4ef5-81bc-616b973c8f3c",
        "colab": {
          "base_uri": "https://localhost:8080/",
          "height": 34
        }
      },
      "source": [
        "dados[\"NU_NOTA_LC\"].quantile(0.1)"
      ],
      "execution_count": 28,
      "outputs": [
        {
          "output_type": "execute_result",
          "data": {
            "text/plain": [
              "434.5"
            ]
          },
          "metadata": {
            "tags": []
          },
          "execution_count": 28
        }
      ]
    },
    {
      "cell_type": "code",
      "metadata": {
        "id": "03RSXG1vVQOi",
        "outputId": "a3177cbd-afb3-45ce-e268-d464d97241f1",
        "colab": {
          "base_uri": "https://localhost:8080/",
          "height": 392
        }
      },
      "source": [
        "dados[\"NU_NOTA_LC\"].plot.box(grid = True, figsize=(8,6))"
      ],
      "execution_count": 29,
      "outputs": [
        {
          "output_type": "execute_result",
          "data": {
            "text/plain": [
              "<matplotlib.axes._subplots.AxesSubplot at 0x7fc422e40390>"
            ]
          },
          "metadata": {
            "tags": []
          },
          "execution_count": 29
        },
        {
          "output_type": "display_data",
          "data": {
            "image/png": "[encoded data removed]",
            "text/plain": [
              "<Figure size 576x432 with 1 Axes>"
            ]
          },
          "metadata": {
            "tags": [],
            "needs_background": "light"
          }
        }
      ]
    },
    {
      "cell_type": "code",
      "metadata": {
        "id": "y_62npBVWvW5",
        "outputId": "4daba214-c7f0-4279-e681-03a4c60c424a",
        "colab": {
          "base_uri": "https://localhost:8080/",
          "height": 501
        }
      },
      "source": [
        "dados[provas].boxplot(grid=True, figsize= (10,8))"
      ],
      "execution_count": 30,
      "outputs": [
        {
          "output_type": "execute_result",
          "data": {
            "text/plain": [
              "<matplotlib.axes._subplots.AxesSubplot at 0x7fc4216636a0>"
            ]
          },
          "metadata": {
            "tags": []
          },
          "execution_count": 30
        },
        {
          "output_type": "display_data",
          "data": {
            "image/png": "[encoded data removed]",
            "text/plain": [
              "<Figure size 720x576 with 1 Axes>"
            ]
          },
          "metadata": {
            "tags": [],
            "needs_background": "light"
          }
        }
      ]
    },
    {
      "cell_type": "markdown",
      "metadata": {
        "id": "2iyYYnhjNzRr"
      },
      "source": [
        "Desafio01: Proporção dos inscritos por idade.\n",
        "\n",
        "Desafio02: Descobrir de quais estados são os inscritos com 13 anos.\n",
        "\n",
        "Desafio03: Adicionar título no gráfico\n",
        "\n",
        "Desafio04: Plotar os Histogramas das idades dos do treineiro e não treineiros.\n",
        "\n",
        "Desafio05: Comparar as distribuições das provas em inglês espanhol\n",
        "\n",
        "Desafio06: Explorar a documentações e visualizações com matplotlib ou pandas e gerar novas visualizações."
      ]
    },
    {
      "cell_type": "markdown",
      "metadata": {
        "id": "BZlUU335HJZS"
      },
      "source": [
        "## Aula 02"
      ]
    },
    {
      "cell_type": "code",
      "metadata": {
        "id": "nPG7t_YtHI5a",
        "outputId": "5ebe8e49-82c2-4b34-e767-3ecf8123397b",
        "colab": {
          "base_uri": "https://localhost:8080/",
          "height": 422
        }
      },
      "source": [
        "# faz uma busca dos candidatos cuja idade é igual a 13 anos\n",
        "dados.query(\"NU_IDADE == 13\")"
      ],
      "execution_count": 31,
      "outputs": [
        {
          "output_type": "execute_result",
          "data": {
            "text/html": [
              "<div>\n",
              "<style scoped>\n",
              "    .dataframe tbody tr th:only-of-type {\n",
              "        vertical-align: middle;\n",
              "    }\n",
              "\n",
              "    .dataframe tbody tr th {\n",
              "        vertical-align: top;\n",
              "    }\n",
              "\n",
              "    .dataframe thead th {\n",
              "        text-align: right;\n",
              "    }\n",
              "</style>\n",
              "<table border=\"1\" class=\"dataframe\">\n",
              "  <thead>\n",
              "    <tr style=\"text-align: right;\">\n",
              "      <th></th>\n",
              "      <th>NU_INSCRICAO</th>\n",
              "      <th>NO_MUNICIPIO_RESIDENCIA</th>\n",
              "      <th>SG_UF_RESIDENCIA</th>\n",
              "      <th>NU_IDADE</th>\n",
              "      <th>TP_SEXO</th>\n",
              "      <th>TP_ESTADO_CIVIL</th>\n",
              "      <th>TP_COR_RACA</th>\n",
              "      <th>NO_MUNICIPIO_NASCIMENTO</th>\n",
              "      <th>SG_UF_NASCIMENTO</th>\n",
              "      <th>TP_ST_CONCLUSAO</th>\n",
              "      <th>TP_ANO_CONCLUIU</th>\n",
              "      <th>TP_ESCOLA</th>\n",
              "      <th>TP_ENSINO</th>\n",
              "      <th>IN_TREINEIRO</th>\n",
              "      <th>NO_MUNICIPIO_ESC</th>\n",
              "      <th>SG_UF_ESC</th>\n",
              "      <th>SG_UF_PROVA</th>\n",
              "      <th>TP_PRESENCA_CN</th>\n",
              "      <th>TP_PRESENCA_CH</th>\n",
              "      <th>TP_PRESENCA_LC</th>\n",
              "      <th>TP_PRESENCA_MT</th>\n",
              "      <th>NU_NOTA_CN</th>\n",
              "      <th>NU_NOTA_CH</th>\n",
              "      <th>NU_NOTA_LC</th>\n",
              "      <th>NU_NOTA_MT</th>\n",
              "      <th>TP_LINGUA</th>\n",
              "      <th>NU_NOTA_REDACAO</th>\n",
              "      <th>Q001</th>\n",
              "      <th>Q002</th>\n",
              "      <th>Q003</th>\n",
              "      <th>Q004</th>\n",
              "      <th>Q005</th>\n",
              "      <th>Q006</th>\n",
              "      <th>Q007</th>\n",
              "      <th>Q008</th>\n",
              "      <th>Q009</th>\n",
              "      <th>Q010</th>\n",
              "      <th>Q011</th>\n",
              "      <th>Q012</th>\n",
              "      <th>Q013</th>\n",
              "      <th>Q014</th>\n",
              "      <th>Q015</th>\n",
              "      <th>Q016</th>\n",
              "      <th>Q017</th>\n",
              "      <th>Q018</th>\n",
              "      <th>Q019</th>\n",
              "      <th>Q020</th>\n",
              "      <th>Q021</th>\n",
              "      <th>Q022</th>\n",
              "      <th>Q023</th>\n",
              "      <th>Q024</th>\n",
              "      <th>Q025</th>\n",
              "    </tr>\n",
              "  </thead>\n",
              "  <tbody>\n",
              "    <tr>\n",
              "      <th>3998</th>\n",
              "      <td>190001008625</td>\n",
              "      <td>Castanhal</td>\n",
              "      <td>PA</td>\n",
              "      <td>13</td>\n",
              "      <td>F</td>\n",
              "      <td>1</td>\n",
              "      <td>3</td>\n",
              "      <td>Belém</td>\n",
              "      <td>PA</td>\n",
              "      <td>3</td>\n",
              "      <td>0</td>\n",
              "      <td>1</td>\n",
              "      <td>NaN</td>\n",
              "      <td>1</td>\n",
              "      <td>NaN</td>\n",
              "      <td>NaN</td>\n",
              "      <td>PA</td>\n",
              "      <td>1</td>\n",
              "      <td>1</td>\n",
              "      <td>1</td>\n",
              "      <td>1</td>\n",
              "      <td>450.7</td>\n",
              "      <td>381.1</td>\n",
              "      <td>553.4</td>\n",
              "      <td>443.8</td>\n",
              "      <td>1</td>\n",
              "      <td>620.0</td>\n",
              "      <td>B</td>\n",
              "      <td>D</td>\n",
              "      <td>B</td>\n",
              "      <td>B</td>\n",
              "      <td>4</td>\n",
              "      <td>B</td>\n",
              "      <td>A</td>\n",
              "      <td>A</td>\n",
              "      <td>A</td>\n",
              "      <td>A</td>\n",
              "      <td>A</td>\n",
              "      <td>B</td>\n",
              "      <td>A</td>\n",
              "      <td>A</td>\n",
              "      <td>A</td>\n",
              "      <td>A</td>\n",
              "      <td>A</td>\n",
              "      <td>A</td>\n",
              "      <td>B</td>\n",
              "      <td>A</td>\n",
              "      <td>A</td>\n",
              "      <td>B</td>\n",
              "      <td>A</td>\n",
              "      <td>A</td>\n",
              "      <td>A</td>\n",
              "    </tr>\n",
              "    <tr>\n",
              "      <th>16081</th>\n",
              "      <td>190001020708</td>\n",
              "      <td>Belém</td>\n",
              "      <td>PA</td>\n",
              "      <td>13</td>\n",
              "      <td>F</td>\n",
              "      <td>1</td>\n",
              "      <td>1</td>\n",
              "      <td>Belém</td>\n",
              "      <td>PA</td>\n",
              "      <td>4</td>\n",
              "      <td>0</td>\n",
              "      <td>1</td>\n",
              "      <td>NaN</td>\n",
              "      <td>0</td>\n",
              "      <td>NaN</td>\n",
              "      <td>NaN</td>\n",
              "      <td>PA</td>\n",
              "      <td>1</td>\n",
              "      <td>1</td>\n",
              "      <td>1</td>\n",
              "      <td>1</td>\n",
              "      <td>448.5</td>\n",
              "      <td>504.8</td>\n",
              "      <td>559.0</td>\n",
              "      <td>471.5</td>\n",
              "      <td>0</td>\n",
              "      <td>620.0</td>\n",
              "      <td>H</td>\n",
              "      <td>H</td>\n",
              "      <td>E</td>\n",
              "      <td>E</td>\n",
              "      <td>4</td>\n",
              "      <td>Q</td>\n",
              "      <td>D</td>\n",
              "      <td>E</td>\n",
              "      <td>D</td>\n",
              "      <td>C</td>\n",
              "      <td>A</td>\n",
              "      <td>C</td>\n",
              "      <td>C</td>\n",
              "      <td>B</td>\n",
              "      <td>A</td>\n",
              "      <td>B</td>\n",
              "      <td>A</td>\n",
              "      <td>B</td>\n",
              "      <td>D</td>\n",
              "      <td>A</td>\n",
              "      <td>B</td>\n",
              "      <td>C</td>\n",
              "      <td>B</td>\n",
              "      <td>B</td>\n",
              "      <td>B</td>\n",
              "    </tr>\n",
              "    <tr>\n",
              "      <th>42068</th>\n",
              "      <td>190001046696</td>\n",
              "      <td>Cacoal</td>\n",
              "      <td>RO</td>\n",
              "      <td>13</td>\n",
              "      <td>M</td>\n",
              "      <td>1</td>\n",
              "      <td>3</td>\n",
              "      <td>Cacoal</td>\n",
              "      <td>RO</td>\n",
              "      <td>4</td>\n",
              "      <td>0</td>\n",
              "      <td>1</td>\n",
              "      <td>NaN</td>\n",
              "      <td>0</td>\n",
              "      <td>NaN</td>\n",
              "      <td>NaN</td>\n",
              "      <td>RO</td>\n",
              "      <td>1</td>\n",
              "      <td>1</td>\n",
              "      <td>1</td>\n",
              "      <td>1</td>\n",
              "      <td>422.8</td>\n",
              "      <td>430.2</td>\n",
              "      <td>503.7</td>\n",
              "      <td>568.8</td>\n",
              "      <td>1</td>\n",
              "      <td>400.0</td>\n",
              "      <td>E</td>\n",
              "      <td>G</td>\n",
              "      <td>D</td>\n",
              "      <td>D</td>\n",
              "      <td>5</td>\n",
              "      <td>G</td>\n",
              "      <td>A</td>\n",
              "      <td>C</td>\n",
              "      <td>C</td>\n",
              "      <td>B</td>\n",
              "      <td>B</td>\n",
              "      <td>B</td>\n",
              "      <td>A</td>\n",
              "      <td>B</td>\n",
              "      <td>A</td>\n",
              "      <td>B</td>\n",
              "      <td>A</td>\n",
              "      <td>A</td>\n",
              "      <td>B</td>\n",
              "      <td>A</td>\n",
              "      <td>A</td>\n",
              "      <td>D</td>\n",
              "      <td>A</td>\n",
              "      <td>B</td>\n",
              "      <td>A</td>\n",
              "    </tr>\n",
              "    <tr>\n",
              "      <th>43565</th>\n",
              "      <td>190001048193</td>\n",
              "      <td>São Francisco do Guaporé</td>\n",
              "      <td>RO</td>\n",
              "      <td>13</td>\n",
              "      <td>F</td>\n",
              "      <td>1</td>\n",
              "      <td>1</td>\n",
              "      <td>NaN</td>\n",
              "      <td>NaN</td>\n",
              "      <td>3</td>\n",
              "      <td>0</td>\n",
              "      <td>1</td>\n",
              "      <td>NaN</td>\n",
              "      <td>1</td>\n",
              "      <td>NaN</td>\n",
              "      <td>NaN</td>\n",
              "      <td>RO</td>\n",
              "      <td>1</td>\n",
              "      <td>1</td>\n",
              "      <td>1</td>\n",
              "      <td>1</td>\n",
              "      <td>449.1</td>\n",
              "      <td>388.0</td>\n",
              "      <td>366.5</td>\n",
              "      <td>406.5</td>\n",
              "      <td>1</td>\n",
              "      <td>220.0</td>\n",
              "      <td>H</td>\n",
              "      <td>E</td>\n",
              "      <td>C</td>\n",
              "      <td>B</td>\n",
              "      <td>5</td>\n",
              "      <td>B</td>\n",
              "      <td>A</td>\n",
              "      <td>B</td>\n",
              "      <td>C</td>\n",
              "      <td>B</td>\n",
              "      <td>A</td>\n",
              "      <td>B</td>\n",
              "      <td>A</td>\n",
              "      <td>A</td>\n",
              "      <td>A</td>\n",
              "      <td>A</td>\n",
              "      <td>A</td>\n",
              "      <td>A</td>\n",
              "      <td>A</td>\n",
              "      <td>A</td>\n",
              "      <td>A</td>\n",
              "      <td>B</td>\n",
              "      <td>A</td>\n",
              "      <td>A</td>\n",
              "      <td>B</td>\n",
              "    </tr>\n",
              "    <tr>\n",
              "      <th>47387</th>\n",
              "      <td>190001052015</td>\n",
              "      <td>Cametá</td>\n",
              "      <td>PA</td>\n",
              "      <td>13</td>\n",
              "      <td>F</td>\n",
              "      <td>1</td>\n",
              "      <td>3</td>\n",
              "      <td>Cametá</td>\n",
              "      <td>PA</td>\n",
              "      <td>3</td>\n",
              "      <td>0</td>\n",
              "      <td>1</td>\n",
              "      <td>NaN</td>\n",
              "      <td>1</td>\n",
              "      <td>NaN</td>\n",
              "      <td>NaN</td>\n",
              "      <td>PA</td>\n",
              "      <td>1</td>\n",
              "      <td>1</td>\n",
              "      <td>1</td>\n",
              "      <td>1</td>\n",
              "      <td>409.6</td>\n",
              "      <td>447.5</td>\n",
              "      <td>439.9</td>\n",
              "      <td>539.9</td>\n",
              "      <td>0</td>\n",
              "      <td>740.0</td>\n",
              "      <td>B</td>\n",
              "      <td>E</td>\n",
              "      <td>A</td>\n",
              "      <td>A</td>\n",
              "      <td>6</td>\n",
              "      <td>A</td>\n",
              "      <td>A</td>\n",
              "      <td>B</td>\n",
              "      <td>B</td>\n",
              "      <td>A</td>\n",
              "      <td>A</td>\n",
              "      <td>A</td>\n",
              "      <td>A</td>\n",
              "      <td>A</td>\n",
              "      <td>A</td>\n",
              "      <td>A</td>\n",
              "      <td>A</td>\n",
              "      <td>A</td>\n",
              "      <td>B</td>\n",
              "      <td>A</td>\n",
              "      <td>A</td>\n",
              "      <td>B</td>\n",
              "      <td>A</td>\n",
              "      <td>A</td>\n",
              "      <td>A</td>\n",
              "    </tr>\n",
              "    <tr>\n",
              "      <th>...</th>\n",
              "      <td>...</td>\n",
              "      <td>...</td>\n",
              "      <td>...</td>\n",
              "      <td>...</td>\n",
              "      <td>...</td>\n",
              "      <td>...</td>\n",
              "      <td>...</td>\n",
              "      <td>...</td>\n",
              "      <td>...</td>\n",
              "      <td>...</td>\n",
              "      <td>...</td>\n",
              "      <td>...</td>\n",
              "      <td>...</td>\n",
              "      <td>...</td>\n",
              "      <td>...</td>\n",
              "      <td>...</td>\n",
              "      <td>...</td>\n",
              "      <td>...</td>\n",
              "      <td>...</td>\n",
              "      <td>...</td>\n",
              "      <td>...</td>\n",
              "      <td>...</td>\n",
              "      <td>...</td>\n",
              "      <td>...</td>\n",
              "      <td>...</td>\n",
              "      <td>...</td>\n",
              "      <td>...</td>\n",
              "      <td>...</td>\n",
              "      <td>...</td>\n",
              "      <td>...</td>\n",
              "      <td>...</td>\n",
              "      <td>...</td>\n",
              "      <td>...</td>\n",
              "      <td>...</td>\n",
              "      <td>...</td>\n",
              "      <td>...</td>\n",
              "      <td>...</td>\n",
              "      <td>...</td>\n",
              "      <td>...</td>\n",
              "      <td>...</td>\n",
              "      <td>...</td>\n",
              "      <td>...</td>\n",
              "      <td>...</td>\n",
              "      <td>...</td>\n",
              "      <td>...</td>\n",
              "      <td>...</td>\n",
              "      <td>...</td>\n",
              "      <td>...</td>\n",
              "      <td>...</td>\n",
              "      <td>...</td>\n",
              "      <td>...</td>\n",
              "      <td>...</td>\n",
              "    </tr>\n",
              "    <tr>\n",
              "      <th>4984398</th>\n",
              "      <td>190005989309</td>\n",
              "      <td>Registro</td>\n",
              "      <td>SP</td>\n",
              "      <td>13</td>\n",
              "      <td>M</td>\n",
              "      <td>1</td>\n",
              "      <td>1</td>\n",
              "      <td>Registro</td>\n",
              "      <td>SP</td>\n",
              "      <td>4</td>\n",
              "      <td>0</td>\n",
              "      <td>1</td>\n",
              "      <td>NaN</td>\n",
              "      <td>0</td>\n",
              "      <td>NaN</td>\n",
              "      <td>NaN</td>\n",
              "      <td>SP</td>\n",
              "      <td>0</td>\n",
              "      <td>0</td>\n",
              "      <td>0</td>\n",
              "      <td>0</td>\n",
              "      <td>NaN</td>\n",
              "      <td>NaN</td>\n",
              "      <td>NaN</td>\n",
              "      <td>NaN</td>\n",
              "      <td>0</td>\n",
              "      <td>NaN</td>\n",
              "      <td>G</td>\n",
              "      <td>G</td>\n",
              "      <td>E</td>\n",
              "      <td>D</td>\n",
              "      <td>4</td>\n",
              "      <td>H</td>\n",
              "      <td>B</td>\n",
              "      <td>C</td>\n",
              "      <td>D</td>\n",
              "      <td>B</td>\n",
              "      <td>A</td>\n",
              "      <td>B</td>\n",
              "      <td>A</td>\n",
              "      <td>B</td>\n",
              "      <td>A</td>\n",
              "      <td>B</td>\n",
              "      <td>A</td>\n",
              "      <td>B</td>\n",
              "      <td>C</td>\n",
              "      <td>A</td>\n",
              "      <td>B</td>\n",
              "      <td>C</td>\n",
              "      <td>A</td>\n",
              "      <td>B</td>\n",
              "      <td>B</td>\n",
              "    </tr>\n",
              "    <tr>\n",
              "      <th>5040502</th>\n",
              "      <td>190006045417</td>\n",
              "      <td>Brasília</td>\n",
              "      <td>DF</td>\n",
              "      <td>13</td>\n",
              "      <td>F</td>\n",
              "      <td>1</td>\n",
              "      <td>1</td>\n",
              "      <td>Brasília</td>\n",
              "      <td>DF</td>\n",
              "      <td>4</td>\n",
              "      <td>0</td>\n",
              "      <td>1</td>\n",
              "      <td>NaN</td>\n",
              "      <td>0</td>\n",
              "      <td>NaN</td>\n",
              "      <td>NaN</td>\n",
              "      <td>DF</td>\n",
              "      <td>1</td>\n",
              "      <td>1</td>\n",
              "      <td>1</td>\n",
              "      <td>1</td>\n",
              "      <td>547.6</td>\n",
              "      <td>404.2</td>\n",
              "      <td>583.4</td>\n",
              "      <td>647.9</td>\n",
              "      <td>0</td>\n",
              "      <td>660.0</td>\n",
              "      <td>G</td>\n",
              "      <td>F</td>\n",
              "      <td>E</td>\n",
              "      <td>E</td>\n",
              "      <td>4</td>\n",
              "      <td>O</td>\n",
              "      <td>D</td>\n",
              "      <td>E</td>\n",
              "      <td>E</td>\n",
              "      <td>C</td>\n",
              "      <td>A</td>\n",
              "      <td>C</td>\n",
              "      <td>A</td>\n",
              "      <td>B</td>\n",
              "      <td>A</td>\n",
              "      <td>B</td>\n",
              "      <td>B</td>\n",
              "      <td>B</td>\n",
              "      <td>D</td>\n",
              "      <td>B</td>\n",
              "      <td>A</td>\n",
              "      <td>E</td>\n",
              "      <td>A</td>\n",
              "      <td>E</td>\n",
              "      <td>B</td>\n",
              "    </tr>\n",
              "    <tr>\n",
              "      <th>5044330</th>\n",
              "      <td>190006049245</td>\n",
              "      <td>Jussara</td>\n",
              "      <td>GO</td>\n",
              "      <td>13</td>\n",
              "      <td>F</td>\n",
              "      <td>1</td>\n",
              "      <td>1</td>\n",
              "      <td>Jussara</td>\n",
              "      <td>GO</td>\n",
              "      <td>4</td>\n",
              "      <td>0</td>\n",
              "      <td>1</td>\n",
              "      <td>NaN</td>\n",
              "      <td>0</td>\n",
              "      <td>NaN</td>\n",
              "      <td>NaN</td>\n",
              "      <td>GO</td>\n",
              "      <td>1</td>\n",
              "      <td>1</td>\n",
              "      <td>1</td>\n",
              "      <td>1</td>\n",
              "      <td>369.8</td>\n",
              "      <td>330.8</td>\n",
              "      <td>469.7</td>\n",
              "      <td>547.2</td>\n",
              "      <td>0</td>\n",
              "      <td>0.0</td>\n",
              "      <td>C</td>\n",
              "      <td>E</td>\n",
              "      <td>B</td>\n",
              "      <td>B</td>\n",
              "      <td>3</td>\n",
              "      <td>A</td>\n",
              "      <td>C</td>\n",
              "      <td>B</td>\n",
              "      <td>C</td>\n",
              "      <td>A</td>\n",
              "      <td>A</td>\n",
              "      <td>B</td>\n",
              "      <td>A</td>\n",
              "      <td>B</td>\n",
              "      <td>A</td>\n",
              "      <td>A</td>\n",
              "      <td>A</td>\n",
              "      <td>A</td>\n",
              "      <td>B</td>\n",
              "      <td>A</td>\n",
              "      <td>A</td>\n",
              "      <td>B</td>\n",
              "      <td>A</td>\n",
              "      <td>B</td>\n",
              "      <td>B</td>\n",
              "    </tr>\n",
              "    <tr>\n",
              "      <th>5049093</th>\n",
              "      <td>190006054008</td>\n",
              "      <td>Brasília</td>\n",
              "      <td>DF</td>\n",
              "      <td>13</td>\n",
              "      <td>F</td>\n",
              "      <td>1</td>\n",
              "      <td>3</td>\n",
              "      <td>Brasília</td>\n",
              "      <td>DF</td>\n",
              "      <td>4</td>\n",
              "      <td>0</td>\n",
              "      <td>1</td>\n",
              "      <td>NaN</td>\n",
              "      <td>0</td>\n",
              "      <td>NaN</td>\n",
              "      <td>NaN</td>\n",
              "      <td>DF</td>\n",
              "      <td>1</td>\n",
              "      <td>1</td>\n",
              "      <td>1</td>\n",
              "      <td>1</td>\n",
              "      <td>457.8</td>\n",
              "      <td>546.1</td>\n",
              "      <td>513.4</td>\n",
              "      <td>455.0</td>\n",
              "      <td>1</td>\n",
              "      <td>320.0</td>\n",
              "      <td>E</td>\n",
              "      <td>E</td>\n",
              "      <td>D</td>\n",
              "      <td>D</td>\n",
              "      <td>4</td>\n",
              "      <td>I</td>\n",
              "      <td>A</td>\n",
              "      <td>C</td>\n",
              "      <td>C</td>\n",
              "      <td>B</td>\n",
              "      <td>A</td>\n",
              "      <td>B</td>\n",
              "      <td>A</td>\n",
              "      <td>B</td>\n",
              "      <td>A</td>\n",
              "      <td>B</td>\n",
              "      <td>A</td>\n",
              "      <td>A</td>\n",
              "      <td>C</td>\n",
              "      <td>A</td>\n",
              "      <td>A</td>\n",
              "      <td>D</td>\n",
              "      <td>B</td>\n",
              "      <td>C</td>\n",
              "      <td>B</td>\n",
              "    </tr>\n",
              "    <tr>\n",
              "      <th>5088408</th>\n",
              "      <td>190006110907</td>\n",
              "      <td>Cristalândia</td>\n",
              "      <td>TO</td>\n",
              "      <td>13</td>\n",
              "      <td>F</td>\n",
              "      <td>1</td>\n",
              "      <td>3</td>\n",
              "      <td>Palmas</td>\n",
              "      <td>TO</td>\n",
              "      <td>4</td>\n",
              "      <td>0</td>\n",
              "      <td>1</td>\n",
              "      <td>NaN</td>\n",
              "      <td>0</td>\n",
              "      <td>NaN</td>\n",
              "      <td>NaN</td>\n",
              "      <td>TO</td>\n",
              "      <td>1</td>\n",
              "      <td>1</td>\n",
              "      <td>1</td>\n",
              "      <td>1</td>\n",
              "      <td>403.6</td>\n",
              "      <td>427.3</td>\n",
              "      <td>494.5</td>\n",
              "      <td>427.2</td>\n",
              "      <td>0</td>\n",
              "      <td>320.0</td>\n",
              "      <td>E</td>\n",
              "      <td>D</td>\n",
              "      <td>F</td>\n",
              "      <td>C</td>\n",
              "      <td>5</td>\n",
              "      <td>C</td>\n",
              "      <td>A</td>\n",
              "      <td>B</td>\n",
              "      <td>C</td>\n",
              "      <td>A</td>\n",
              "      <td>A</td>\n",
              "      <td>B</td>\n",
              "      <td>A</td>\n",
              "      <td>A</td>\n",
              "      <td>A</td>\n",
              "      <td>A</td>\n",
              "      <td>A</td>\n",
              "      <td>A</td>\n",
              "      <td>C</td>\n",
              "      <td>B</td>\n",
              "      <td>A</td>\n",
              "      <td>E</td>\n",
              "      <td>A</td>\n",
              "      <td>B</td>\n",
              "      <td>B</td>\n",
              "    </tr>\n",
              "  </tbody>\n",
              "</table>\n",
              "<p>266 rows × 52 columns</p>\n",
              "</div>"
            ],
            "text/plain": [
              "         NU_INSCRICAO   NO_MUNICIPIO_RESIDENCIA SG_UF_RESIDENCIA  ...  Q023 Q024  Q025\n",
              "3998     190001008625                 Castanhal               PA  ...     A    A     A\n",
              "16081    190001020708                     Belém               PA  ...     B    B     B\n",
              "42068    190001046696                    Cacoal               RO  ...     A    B     A\n",
              "43565    190001048193  São Francisco do Guaporé               RO  ...     A    A     B\n",
              "47387    190001052015                    Cametá               PA  ...     A    A     A\n",
              "...               ...                       ...              ...  ...   ...  ...   ...\n",
              "4984398  190005989309                  Registro               SP  ...     A    B     B\n",
              "5040502  190006045417                  Brasília               DF  ...     A    E     B\n",
              "5044330  190006049245                   Jussara               GO  ...     A    B     B\n",
              "5049093  190006054008                  Brasília               DF  ...     B    C     B\n",
              "5088408  190006110907              Cristalândia               TO  ...     A    B     B\n",
              "\n",
              "[266 rows x 52 columns]"
            ]
          },
          "metadata": {
            "tags": []
          },
          "execution_count": 31
        }
      ]
    },
    {
      "cell_type": "code",
      "metadata": {
        "id": "b8Z64spVCxEd",
        "outputId": "376e712b-6dc3-4e6b-dab2-91198b7c4491",
        "colab": {
          "base_uri": "https://localhost:8080/",
          "height": 487
        }
      },
      "source": [
        "# verifica quais candidatos tem até 14 anos e mostra quantos tem em cada Estado\n",
        "dados.query(\"NU_IDADE <= 14\")[\"SG_UF_RESIDENCIA\"].value_counts()"
      ],
      "execution_count": 32,
      "outputs": [
        {
          "output_type": "execute_result",
          "data": {
            "text/plain": [
              "PA    509\n",
              "CE    467\n",
              "PE    458\n",
              "MA    457\n",
              "BA    415\n",
              "SP    406\n",
              "PB    395\n",
              "MG    345\n",
              "GO    303\n",
              "SE    246\n",
              "PI    227\n",
              "PR    166\n",
              "MT    154\n",
              "AM    139\n",
              "TO    124\n",
              "DF    109\n",
              "RJ    108\n",
              "RO     98\n",
              "MS     88\n",
              "SC     78\n",
              "RN     76\n",
              "AP     62\n",
              "RS     59\n",
              "AL     56\n",
              "AC     51\n",
              "ES     47\n",
              "RR     20\n",
              "Name: SG_UF_RESIDENCIA, dtype: int64"
            ]
          },
          "metadata": {
            "tags": []
          },
          "execution_count": 32
        }
      ]
    },
    {
      "cell_type": "code",
      "metadata": {
        "id": "sqS5PRDaIXVb",
        "outputId": "8e9e8650-2330-4a91-9a70-eb5c65b181a6",
        "colab": {
          "base_uri": "https://localhost:8080/",
          "height": 487
        }
      },
      "source": [
        "# \"normalize=True\" nos ajuda a trazer a proporção do dado na amostra total\n",
        "dados.query(\"NU_IDADE <= 14\")[\"SG_UF_RESIDENCIA\"].value_counts(normalize=True)*100"
      ],
      "execution_count": 60,
      "outputs": [
        {
          "output_type": "execute_result",
          "data": {
            "text/plain": [
              "PA   8.99\n",
              "CE   8.25\n",
              "PE   8.09\n",
              "MA   8.07\n",
              "BA   7.33\n",
              "SP   7.17\n",
              "PB   6.98\n",
              "MG   6.09\n",
              "GO   5.35\n",
              "SE   4.34\n",
              "PI   4.01\n",
              "PR   2.93\n",
              "MT   2.72\n",
              "AM   2.45\n",
              "TO   2.19\n",
              "DF   1.92\n",
              "RJ   1.91\n",
              "RO   1.73\n",
              "MS   1.55\n",
              "SC   1.38\n",
              "RN   1.34\n",
              "AP   1.09\n",
              "RS   1.04\n",
              "AL   0.99\n",
              "AC   0.90\n",
              "ES   0.83\n",
              "RR   0.35\n",
              "Name: SG_UF_RESIDENCIA, dtype: float64"
            ]
          },
          "metadata": {
            "tags": []
          },
          "execution_count": 60
        }
      ]
    },
    {
      "cell_type": "code",
      "metadata": {
        "id": "TLl6Z1IeJJs8",
        "outputId": "49f0d85c-9741-4a44-935e-c2191c3ff438",
        "colab": {
          "base_uri": "https://localhost:8080/",
          "height": 483
        }
      },
      "source": [
        "alunos_menor_quartoze = dados.query(\"NU_IDADE <= 14\")\n",
        "alunos_menor_quartoze[\"SG_UF_RESIDENCIA\"].value_counts().plot.pie(figsize=(10,8))\n",
        "# mostra um gráfico de pizza cuja visualização é horrível de interpretar"
      ],
      "execution_count": 34,
      "outputs": [
        {
          "output_type": "execute_result",
          "data": {
            "text/plain": [
              "<matplotlib.axes._subplots.AxesSubplot at 0x7fc4215cffd0>"
            ]
          },
          "metadata": {
            "tags": []
          },
          "execution_count": 34
        },
        {
          "output_type": "display_data",
          "data": {
            "image/png": "[encoded data removed]",
            "text/plain": [
              "<Figure size 720x576 with 1 Axes>"
            ]
          },
          "metadata": {
            "tags": []
          }
        }
      ]
    },
    {
      "cell_type": "code",
      "metadata": {
        "id": "OKGKHYz7KPcz",
        "outputId": "3ee6ac39-260d-4272-fb99-4cf378231fb4",
        "colab": {
          "base_uri": "https://localhost:8080/",
          "height": 506
        }
      },
      "source": [
        "alunos_menor_quartoze[\"SG_UF_RESIDENCIA\"].value_counts(normalize = True).plot.bar(figsize=(10,8))\n",
        "# melhor usar gráfico de barras para melhor visualização das proporções de\n",
        "# alunos de até 14 anos\n",
        "# talvez fosse melhor fazer as barras na horizontal"
      ],
      "execution_count": 35,
      "outputs": [
        {
          "output_type": "execute_result",
          "data": {
            "text/plain": [
              "<matplotlib.axes._subplots.AxesSubplot at 0x7fc42a83ce10>"
            ]
          },
          "metadata": {
            "tags": []
          },
          "execution_count": 35
        },
        {
          "output_type": "display_data",
          "data": {
            "image/png": "[encoded data removed]",
            "text/plain": [
              "<Figure size 720x576 with 1 Axes>"
            ]
          },
          "metadata": {
            "tags": [],
            "needs_background": "light"
          }
        }
      ]
    },
    {
      "cell_type": "code",
      "metadata": {
        "id": "8pZMPrlWLqxk",
        "outputId": "c511ce2f-7972-43ee-8d46-6dc1f7bda80f",
        "colab": {
          "base_uri": "https://localhost:8080/",
          "height": 34
        }
      },
      "source": [
        "len(alunos_menor_quartoze)"
      ],
      "execution_count": 36,
      "outputs": [
        {
          "output_type": "execute_result",
          "data": {
            "text/plain": [
              "5663"
            ]
          },
          "metadata": {
            "tags": []
          },
          "execution_count": 36
        }
      ]
    },
    {
      "cell_type": "code",
      "metadata": {
        "id": "dBj4lqiOM-tL",
        "outputId": "fa0d31d9-ece9-4f21-d8ef-12594420f859",
        "colab": {
          "base_uri": "https://localhost:8080/",
          "height": 540
        }
      },
      "source": [
        "import seaborn as sns # biblioteca de visualização\n",
        "import matplotlib.pyplot as plt # ajuda a alterar tamanho, título, etc\n",
        "\n",
        "plt.figure(figsize=(10, 8))\n",
        "sns.boxplot(x=\"Q006\", y = \"NU_NOTA_MT\", data = dados)\n",
        "plt.title(\"Boxplot das notas de matemática pela renda\", fontsize=25)"
      ],
      "execution_count": 37,
      "outputs": [
        {
          "output_type": "execute_result",
          "data": {
            "text/plain": [
              "Text(0.5, 1.0, 'Boxplot das notas de matemática pela renda')"
            ]
          },
          "metadata": {
            "tags": []
          },
          "execution_count": 37
        },
        {
          "output_type": "display_data",
          "data": {
            "image/png": "[encoded data removed]",
            "text/plain": [
              "<Figure size 720x576 with 1 Axes>"
            ]
          },
          "metadata": {
            "tags": [],
            "needs_background": "light"
          }
        }
      ]
    },
    {
      "cell_type": "code",
      "metadata": {
        "id": "d7ec4hqHOMz0"
      },
      "source": [
        "renda_ordenada = dados[\"Q006\"].unique()\n",
        "renda_ordenada.sort()"
      ],
      "execution_count": 38,
      "outputs": []
    },
    {
      "cell_type": "code",
      "metadata": {
        "id": "gmKZikIfPPrD",
        "outputId": "1286f384-ee35-4f81-956d-bdf8d252419a",
        "colab": {
          "base_uri": "https://localhost:8080/",
          "height": 50
        }
      },
      "source": [
        "renda_ordenada"
      ],
      "execution_count": 39,
      "outputs": [
        {
          "output_type": "execute_result",
          "data": {
            "text/plain": [
              "array(['A', 'B', 'C', 'D', 'E', 'F', 'G', 'H', 'I', 'J', 'K', 'L', 'M',\n",
              "       'N', 'O', 'P', 'Q'], dtype=object)"
            ]
          },
          "metadata": {
            "tags": []
          },
          "execution_count": 39
        }
      ]
    },
    {
      "cell_type": "code",
      "metadata": {
        "id": "Sy5W5bGIPYNv",
        "outputId": "008dc815-0c2c-4b9f-aa10-768f8d90d40a",
        "colab": {
          "base_uri": "https://localhost:8080/",
          "height": 393
        }
      },
      "source": [
        "plt.figure(figsize=(10, 6))\n",
        "sns.boxplot(x=\"Q006\", y = \"NU_NOTA_MT\", data = dados, order = renda_ordenada)\n",
        "plt.title(\"Boxplot das notas de matemática ordenadas pela renda\", fontsize=25)"
      ],
      "execution_count": 40,
      "outputs": [
        {
          "output_type": "execute_result",
          "data": {
            "text/plain": [
              "Text(0.5, 1.0, 'Boxplot das notas de matemática ordenadas pela renda')"
            ]
          },
          "metadata": {
            "tags": []
          },
          "execution_count": 40
        },
        {
          "output_type": "display_data",
          "data": {
            "image/png": "[encoded data removed]",
            "text/plain": [
              "<Figure size 720x432 with 1 Axes>"
            ]
          },
          "metadata": {
            "tags": [],
            "needs_background": "light"
          }
        }
      ]
    },
    {
      "cell_type": "code",
      "metadata": {
        "id": "K_Qk_WbaQuuB",
        "outputId": "2a5ba046-1ccc-4a7a-be03-43ee5f00b132",
        "colab": {
          "base_uri": "https://localhost:8080/",
          "height": 118
        }
      },
      "source": [
        "# pd.options.display.float_format = '{:.2f}'.format\n",
        "dados[provas].sum()"
      ],
      "execution_count": 63,
      "outputs": [
        {
          "output_type": "execute_result",
          "data": {
            "text/plain": [
              "NU_NOTA_CN        1772934261.90\n",
              "NU_NOTA_CH        1990010056.90\n",
              "NU_NOTA_MT        1941017005.30\n",
              "NU_NOTA_LC        2042066246.30\n",
              "NU_NOTA_REDACAO   2240854140.00\n",
              "dtype: float64"
            ]
          },
          "metadata": {
            "tags": []
          },
          "execution_count": 63
        }
      ]
    },
    {
      "cell_type": "code",
      "metadata": {
        "id": "eqS_hIkvRA0O",
        "outputId": "d2955a8d-54ba-48dc-cc06-38c400cbefbd",
        "colab": {
          "base_uri": "https://localhost:8080/",
          "height": 232
        }
      },
      "source": [
        "dados[\"NU_NOTA_TOTAL\"] = dados[provas].sum(axis=1)\n",
        "dados.head()"
      ],
      "execution_count": 42,
      "outputs": [
        {
          "output_type": "execute_result",
          "data": {
            "text/html": [
              "<div>\n",
              "<style scoped>\n",
              "    .dataframe tbody tr th:only-of-type {\n",
              "        vertical-align: middle;\n",
              "    }\n",
              "\n",
              "    .dataframe tbody tr th {\n",
              "        vertical-align: top;\n",
              "    }\n",
              "\n",
              "    .dataframe thead th {\n",
              "        text-align: right;\n",
              "    }\n",
              "</style>\n",
              "<table border=\"1\" class=\"dataframe\">\n",
              "  <thead>\n",
              "    <tr style=\"text-align: right;\">\n",
              "      <th></th>\n",
              "      <th>NU_INSCRICAO</th>\n",
              "      <th>NO_MUNICIPIO_RESIDENCIA</th>\n",
              "      <th>SG_UF_RESIDENCIA</th>\n",
              "      <th>NU_IDADE</th>\n",
              "      <th>TP_SEXO</th>\n",
              "      <th>TP_ESTADO_CIVIL</th>\n",
              "      <th>TP_COR_RACA</th>\n",
              "      <th>NO_MUNICIPIO_NASCIMENTO</th>\n",
              "      <th>SG_UF_NASCIMENTO</th>\n",
              "      <th>TP_ST_CONCLUSAO</th>\n",
              "      <th>TP_ANO_CONCLUIU</th>\n",
              "      <th>TP_ESCOLA</th>\n",
              "      <th>TP_ENSINO</th>\n",
              "      <th>IN_TREINEIRO</th>\n",
              "      <th>NO_MUNICIPIO_ESC</th>\n",
              "      <th>SG_UF_ESC</th>\n",
              "      <th>SG_UF_PROVA</th>\n",
              "      <th>TP_PRESENCA_CN</th>\n",
              "      <th>TP_PRESENCA_CH</th>\n",
              "      <th>TP_PRESENCA_LC</th>\n",
              "      <th>TP_PRESENCA_MT</th>\n",
              "      <th>NU_NOTA_CN</th>\n",
              "      <th>NU_NOTA_CH</th>\n",
              "      <th>NU_NOTA_LC</th>\n",
              "      <th>NU_NOTA_MT</th>\n",
              "      <th>TP_LINGUA</th>\n",
              "      <th>NU_NOTA_REDACAO</th>\n",
              "      <th>Q001</th>\n",
              "      <th>Q002</th>\n",
              "      <th>Q003</th>\n",
              "      <th>Q004</th>\n",
              "      <th>Q005</th>\n",
              "      <th>Q006</th>\n",
              "      <th>Q007</th>\n",
              "      <th>Q008</th>\n",
              "      <th>Q009</th>\n",
              "      <th>Q010</th>\n",
              "      <th>Q011</th>\n",
              "      <th>Q012</th>\n",
              "      <th>Q013</th>\n",
              "      <th>Q014</th>\n",
              "      <th>Q015</th>\n",
              "      <th>Q016</th>\n",
              "      <th>Q017</th>\n",
              "      <th>Q018</th>\n",
              "      <th>Q019</th>\n",
              "      <th>Q020</th>\n",
              "      <th>Q021</th>\n",
              "      <th>Q022</th>\n",
              "      <th>Q023</th>\n",
              "      <th>Q024</th>\n",
              "      <th>Q025</th>\n",
              "      <th>NU_NOTA_TOTAL</th>\n",
              "    </tr>\n",
              "  </thead>\n",
              "  <tbody>\n",
              "    <tr>\n",
              "      <th>0</th>\n",
              "      <td>190001004627</td>\n",
              "      <td>Santarém</td>\n",
              "      <td>PA</td>\n",
              "      <td>21</td>\n",
              "      <td>M</td>\n",
              "      <td>1</td>\n",
              "      <td>3</td>\n",
              "      <td>NaN</td>\n",
              "      <td>NaN</td>\n",
              "      <td>1</td>\n",
              "      <td>3</td>\n",
              "      <td>1</td>\n",
              "      <td>NaN</td>\n",
              "      <td>0</td>\n",
              "      <td>NaN</td>\n",
              "      <td>NaN</td>\n",
              "      <td>PA</td>\n",
              "      <td>1</td>\n",
              "      <td>1</td>\n",
              "      <td>1</td>\n",
              "      <td>1</td>\n",
              "      <td>472.9</td>\n",
              "      <td>466.0</td>\n",
              "      <td>497.3</td>\n",
              "      <td>369.1</td>\n",
              "      <td>0</td>\n",
              "      <td>780.0</td>\n",
              "      <td>D</td>\n",
              "      <td>E</td>\n",
              "      <td>A</td>\n",
              "      <td>A</td>\n",
              "      <td>7</td>\n",
              "      <td>B</td>\n",
              "      <td>A</td>\n",
              "      <td>B</td>\n",
              "      <td>C</td>\n",
              "      <td>A</td>\n",
              "      <td>A</td>\n",
              "      <td>B</td>\n",
              "      <td>A</td>\n",
              "      <td>B</td>\n",
              "      <td>A</td>\n",
              "      <td>A</td>\n",
              "      <td>A</td>\n",
              "      <td>A</td>\n",
              "      <td>C</td>\n",
              "      <td>B</td>\n",
              "      <td>A</td>\n",
              "      <td>D</td>\n",
              "      <td>A</td>\n",
              "      <td>B</td>\n",
              "      <td>A</td>\n",
              "      <td>2585.3</td>\n",
              "    </tr>\n",
              "    <tr>\n",
              "      <th>1</th>\n",
              "      <td>190001004628</td>\n",
              "      <td>Mãe do Rio</td>\n",
              "      <td>PA</td>\n",
              "      <td>16</td>\n",
              "      <td>F</td>\n",
              "      <td>1</td>\n",
              "      <td>3</td>\n",
              "      <td>Paragominas</td>\n",
              "      <td>PA</td>\n",
              "      <td>3</td>\n",
              "      <td>0</td>\n",
              "      <td>1</td>\n",
              "      <td>NaN</td>\n",
              "      <td>1</td>\n",
              "      <td>NaN</td>\n",
              "      <td>NaN</td>\n",
              "      <td>PA</td>\n",
              "      <td>1</td>\n",
              "      <td>1</td>\n",
              "      <td>1</td>\n",
              "      <td>1</td>\n",
              "      <td>358.9</td>\n",
              "      <td>495.4</td>\n",
              "      <td>482.3</td>\n",
              "      <td>416.5</td>\n",
              "      <td>1</td>\n",
              "      <td>600.0</td>\n",
              "      <td>D</td>\n",
              "      <td>E</td>\n",
              "      <td>A</td>\n",
              "      <td>A</td>\n",
              "      <td>5</td>\n",
              "      <td>B</td>\n",
              "      <td>A</td>\n",
              "      <td>B</td>\n",
              "      <td>C</td>\n",
              "      <td>A</td>\n",
              "      <td>A</td>\n",
              "      <td>B</td>\n",
              "      <td>A</td>\n",
              "      <td>B</td>\n",
              "      <td>A</td>\n",
              "      <td>A</td>\n",
              "      <td>A</td>\n",
              "      <td>A</td>\n",
              "      <td>B</td>\n",
              "      <td>B</td>\n",
              "      <td>A</td>\n",
              "      <td>B</td>\n",
              "      <td>A</td>\n",
              "      <td>A</td>\n",
              "      <td>A</td>\n",
              "      <td>2353.1</td>\n",
              "    </tr>\n",
              "    <tr>\n",
              "      <th>2</th>\n",
              "      <td>190001004629</td>\n",
              "      <td>Paragominas</td>\n",
              "      <td>PA</td>\n",
              "      <td>18</td>\n",
              "      <td>F</td>\n",
              "      <td>1</td>\n",
              "      <td>1</td>\n",
              "      <td>Paragominas</td>\n",
              "      <td>PA</td>\n",
              "      <td>2</td>\n",
              "      <td>0</td>\n",
              "      <td>3</td>\n",
              "      <td>1.0</td>\n",
              "      <td>0</td>\n",
              "      <td>Paragominas</td>\n",
              "      <td>PA</td>\n",
              "      <td>PA</td>\n",
              "      <td>1</td>\n",
              "      <td>1</td>\n",
              "      <td>1</td>\n",
              "      <td>1</td>\n",
              "      <td>574.2</td>\n",
              "      <td>538.7</td>\n",
              "      <td>582.6</td>\n",
              "      <td>571.5</td>\n",
              "      <td>0</td>\n",
              "      <td>640.0</td>\n",
              "      <td>H</td>\n",
              "      <td>E</td>\n",
              "      <td>A</td>\n",
              "      <td>D</td>\n",
              "      <td>3</td>\n",
              "      <td>C</td>\n",
              "      <td>D</td>\n",
              "      <td>E</td>\n",
              "      <td>E</td>\n",
              "      <td>C</td>\n",
              "      <td>A</td>\n",
              "      <td>B</td>\n",
              "      <td>C</td>\n",
              "      <td>B</td>\n",
              "      <td>A</td>\n",
              "      <td>B</td>\n",
              "      <td>A</td>\n",
              "      <td>A</td>\n",
              "      <td>D</td>\n",
              "      <td>B</td>\n",
              "      <td>B</td>\n",
              "      <td>D</td>\n",
              "      <td>A</td>\n",
              "      <td>C</td>\n",
              "      <td>B</td>\n",
              "      <td>2907.0</td>\n",
              "    </tr>\n",
              "    <tr>\n",
              "      <th>3</th>\n",
              "      <td>190001004630</td>\n",
              "      <td>São Sebastião da Boa Vista</td>\n",
              "      <td>PA</td>\n",
              "      <td>23</td>\n",
              "      <td>M</td>\n",
              "      <td>0</td>\n",
              "      <td>3</td>\n",
              "      <td>Belém</td>\n",
              "      <td>PA</td>\n",
              "      <td>2</td>\n",
              "      <td>0</td>\n",
              "      <td>2</td>\n",
              "      <td>1.0</td>\n",
              "      <td>0</td>\n",
              "      <td>São Sebastião da Boa Vista</td>\n",
              "      <td>PA</td>\n",
              "      <td>PA</td>\n",
              "      <td>0</td>\n",
              "      <td>0</td>\n",
              "      <td>0</td>\n",
              "      <td>0</td>\n",
              "      <td>NaN</td>\n",
              "      <td>NaN</td>\n",
              "      <td>NaN</td>\n",
              "      <td>NaN</td>\n",
              "      <td>1</td>\n",
              "      <td>NaN</td>\n",
              "      <td>D</td>\n",
              "      <td>D</td>\n",
              "      <td>A</td>\n",
              "      <td>B</td>\n",
              "      <td>3</td>\n",
              "      <td>C</td>\n",
              "      <td>A</td>\n",
              "      <td>B</td>\n",
              "      <td>C</td>\n",
              "      <td>A</td>\n",
              "      <td>A</td>\n",
              "      <td>B</td>\n",
              "      <td>A</td>\n",
              "      <td>A</td>\n",
              "      <td>A</td>\n",
              "      <td>A</td>\n",
              "      <td>A</td>\n",
              "      <td>A</td>\n",
              "      <td>C</td>\n",
              "      <td>A</td>\n",
              "      <td>A</td>\n",
              "      <td>D</td>\n",
              "      <td>A</td>\n",
              "      <td>A</td>\n",
              "      <td>A</td>\n",
              "      <td>0.0</td>\n",
              "    </tr>\n",
              "    <tr>\n",
              "      <th>4</th>\n",
              "      <td>190001004631</td>\n",
              "      <td>Juruti</td>\n",
              "      <td>PA</td>\n",
              "      <td>23</td>\n",
              "      <td>M</td>\n",
              "      <td>1</td>\n",
              "      <td>3</td>\n",
              "      <td>Juruti</td>\n",
              "      <td>PA</td>\n",
              "      <td>1</td>\n",
              "      <td>5</td>\n",
              "      <td>1</td>\n",
              "      <td>1.0</td>\n",
              "      <td>0</td>\n",
              "      <td>NaN</td>\n",
              "      <td>NaN</td>\n",
              "      <td>PA</td>\n",
              "      <td>0</td>\n",
              "      <td>0</td>\n",
              "      <td>0</td>\n",
              "      <td>0</td>\n",
              "      <td>NaN</td>\n",
              "      <td>NaN</td>\n",
              "      <td>NaN</td>\n",
              "      <td>NaN</td>\n",
              "      <td>1</td>\n",
              "      <td>NaN</td>\n",
              "      <td>B</td>\n",
              "      <td>C</td>\n",
              "      <td>A</td>\n",
              "      <td>A</td>\n",
              "      <td>5</td>\n",
              "      <td>C</td>\n",
              "      <td>A</td>\n",
              "      <td>C</td>\n",
              "      <td>B</td>\n",
              "      <td>A</td>\n",
              "      <td>B</td>\n",
              "      <td>B</td>\n",
              "      <td>A</td>\n",
              "      <td>B</td>\n",
              "      <td>A</td>\n",
              "      <td>A</td>\n",
              "      <td>A</td>\n",
              "      <td>A</td>\n",
              "      <td>B</td>\n",
              "      <td>A</td>\n",
              "      <td>A</td>\n",
              "      <td>D</td>\n",
              "      <td>A</td>\n",
              "      <td>A</td>\n",
              "      <td>A</td>\n",
              "      <td>0.0</td>\n",
              "    </tr>\n",
              "  </tbody>\n",
              "</table>\n",
              "</div>"
            ],
            "text/plain": [
              "   NU_INSCRICAO     NO_MUNICIPIO_RESIDENCIA  ... Q025  NU_NOTA_TOTAL\n",
              "0  190001004627                    Santarém  ...    A         2585.3\n",
              "1  190001004628                  Mãe do Rio  ...    A         2353.1\n",
              "2  190001004629                 Paragominas  ...    B         2907.0\n",
              "3  190001004630  São Sebastião da Boa Vista  ...    A            0.0\n",
              "4  190001004631                      Juruti  ...    A            0.0\n",
              "\n",
              "[5 rows x 53 columns]"
            ]
          },
          "metadata": {
            "tags": []
          },
          "execution_count": 42
        }
      ]
    },
    {
      "cell_type": "code",
      "metadata": {
        "id": "PbqC-d1mRcdQ",
        "outputId": "1f24bfb5-dcf5-41b9-c446-e40af4774ea4",
        "colab": {
          "base_uri": "https://localhost:8080/",
          "height": 430
        }
      },
      "source": [
        "plt.figure(figsize=(10, 6))\n",
        "sns.boxplot(x=\"Q006\", y = \"NU_NOTA_TOTAL\", data = dados, order = renda_ordenada)\n",
        "plt.title(\"Boxplot da soma das notas totais pela renda\", fontsize=25)"
      ],
      "execution_count": 43,
      "outputs": [
        {
          "output_type": "execute_result",
          "data": {
            "text/plain": [
              "Text(0.5, 1.0, 'Boxplot da soma das notas totais pela renda')"
            ]
          },
          "metadata": {
            "tags": []
          },
          "execution_count": 43
        },
        {
          "output_type": "display_data",
          "data": {
            "image/png": "[encoded data removed]",
            "text/plain": [
              "<Figure size 720x432 with 1 Axes>"
            ]
          },
          "metadata": {
            "tags": [],
            "needs_background": "light"
          }
        }
      ]
    },
    {
      "cell_type": "code",
      "metadata": {
        "id": "M1dZw-EUSf03",
        "outputId": "ebf96f42-da2e-4b06-f5ca-4c70a02c784b",
        "colab": {
          "base_uri": "https://localhost:8080/",
          "height": 386
        }
      },
      "source": [
        "# gera histograma usando seaborn\n",
        "\n",
        "sns.displot(dados, x =\"NU_NOTA_TOTAL\")"
      ],
      "execution_count": 65,
      "outputs": [
        {
          "output_type": "execute_result",
          "data": {
            "text/plain": [
              "<seaborn.axisgrid.FacetGrid at 0x7fc411f5e0f0>"
            ]
          },
          "metadata": {
            "tags": []
          },
          "execution_count": 65
        },
        {
          "output_type": "display_data",
          "data": {
            "image/png": "[encoded data removed]",
            "text/plain": [
              "<Figure size 360x360 with 1 Axes>"
            ]
          },
          "metadata": {
            "tags": [],
            "needs_background": "light"
          }
        }
      ]
    },
    {
      "cell_type": "code",
      "metadata": {
        "id": "HX2i1uknS2uT",
        "outputId": "0a28a2fa-6055-46ed-b677-8e6ca8a21c16",
        "colab": {
          "base_uri": "https://localhost:8080/",
          "height": 422
        }
      },
      "source": [
        "#exibe os candidatos que obtiveram \"NU_NOTA_TOTAL == 0\"\n",
        "\n",
        "provas = [\"NU_NOTA_CN\",\"NU_NOTA_CH\",\"NU_NOTA_MT\",\"NU_NOTA_LC\",\"NU_NOTA_REDACAO\"]\n",
        "provas.append(\"NU_NOTA_TOTAL\")\n",
        "dados[provas].query(\"NU_NOTA_TOTAL == 0\")"
      ],
      "execution_count": 45,
      "outputs": [
        {
          "output_type": "execute_result",
          "data": {
            "text/html": [
              "<div>\n",
              "<style scoped>\n",
              "    .dataframe tbody tr th:only-of-type {\n",
              "        vertical-align: middle;\n",
              "    }\n",
              "\n",
              "    .dataframe tbody tr th {\n",
              "        vertical-align: top;\n",
              "    }\n",
              "\n",
              "    .dataframe thead th {\n",
              "        text-align: right;\n",
              "    }\n",
              "</style>\n",
              "<table border=\"1\" class=\"dataframe\">\n",
              "  <thead>\n",
              "    <tr style=\"text-align: right;\">\n",
              "      <th></th>\n",
              "      <th>NU_NOTA_CN</th>\n",
              "      <th>NU_NOTA_CH</th>\n",
              "      <th>NU_NOTA_MT</th>\n",
              "      <th>NU_NOTA_LC</th>\n",
              "      <th>NU_NOTA_REDACAO</th>\n",
              "      <th>NU_NOTA_TOTAL</th>\n",
              "    </tr>\n",
              "  </thead>\n",
              "  <tbody>\n",
              "    <tr>\n",
              "      <th>3</th>\n",
              "      <td>NaN</td>\n",
              "      <td>NaN</td>\n",
              "      <td>NaN</td>\n",
              "      <td>NaN</td>\n",
              "      <td>NaN</td>\n",
              "      <td>0.0</td>\n",
              "    </tr>\n",
              "    <tr>\n",
              "      <th>4</th>\n",
              "      <td>NaN</td>\n",
              "      <td>NaN</td>\n",
              "      <td>NaN</td>\n",
              "      <td>NaN</td>\n",
              "      <td>NaN</td>\n",
              "      <td>0.0</td>\n",
              "    </tr>\n",
              "    <tr>\n",
              "      <th>11</th>\n",
              "      <td>NaN</td>\n",
              "      <td>NaN</td>\n",
              "      <td>NaN</td>\n",
              "      <td>NaN</td>\n",
              "      <td>NaN</td>\n",
              "      <td>0.0</td>\n",
              "    </tr>\n",
              "    <tr>\n",
              "      <th>12</th>\n",
              "      <td>NaN</td>\n",
              "      <td>NaN</td>\n",
              "      <td>NaN</td>\n",
              "      <td>NaN</td>\n",
              "      <td>NaN</td>\n",
              "      <td>0.0</td>\n",
              "    </tr>\n",
              "    <tr>\n",
              "      <th>13</th>\n",
              "      <td>NaN</td>\n",
              "      <td>NaN</td>\n",
              "      <td>NaN</td>\n",
              "      <td>NaN</td>\n",
              "      <td>NaN</td>\n",
              "      <td>0.0</td>\n",
              "    </tr>\n",
              "    <tr>\n",
              "      <th>...</th>\n",
              "      <td>...</td>\n",
              "      <td>...</td>\n",
              "      <td>...</td>\n",
              "      <td>...</td>\n",
              "      <td>...</td>\n",
              "      <td>...</td>\n",
              "    </tr>\n",
              "    <tr>\n",
              "      <th>5095260</th>\n",
              "      <td>NaN</td>\n",
              "      <td>NaN</td>\n",
              "      <td>NaN</td>\n",
              "      <td>NaN</td>\n",
              "      <td>NaN</td>\n",
              "      <td>0.0</td>\n",
              "    </tr>\n",
              "    <tr>\n",
              "      <th>5095264</th>\n",
              "      <td>NaN</td>\n",
              "      <td>NaN</td>\n",
              "      <td>NaN</td>\n",
              "      <td>NaN</td>\n",
              "      <td>NaN</td>\n",
              "      <td>0.0</td>\n",
              "    </tr>\n",
              "    <tr>\n",
              "      <th>5095265</th>\n",
              "      <td>NaN</td>\n",
              "      <td>NaN</td>\n",
              "      <td>NaN</td>\n",
              "      <td>NaN</td>\n",
              "      <td>NaN</td>\n",
              "      <td>0.0</td>\n",
              "    </tr>\n",
              "    <tr>\n",
              "      <th>5095266</th>\n",
              "      <td>NaN</td>\n",
              "      <td>NaN</td>\n",
              "      <td>NaN</td>\n",
              "      <td>NaN</td>\n",
              "      <td>NaN</td>\n",
              "      <td>0.0</td>\n",
              "    </tr>\n",
              "    <tr>\n",
              "      <th>5095267</th>\n",
              "      <td>NaN</td>\n",
              "      <td>NaN</td>\n",
              "      <td>NaN</td>\n",
              "      <td>NaN</td>\n",
              "      <td>NaN</td>\n",
              "      <td>0.0</td>\n",
              "    </tr>\n",
              "  </tbody>\n",
              "</table>\n",
              "<p>1165216 rows × 6 columns</p>\n",
              "</div>"
            ],
            "text/plain": [
              "         NU_NOTA_CN  NU_NOTA_CH  ...  NU_NOTA_REDACAO  NU_NOTA_TOTAL\n",
              "3               NaN         NaN  ...              NaN            0.0\n",
              "4               NaN         NaN  ...              NaN            0.0\n",
              "11              NaN         NaN  ...              NaN            0.0\n",
              "12              NaN         NaN  ...              NaN            0.0\n",
              "13              NaN         NaN  ...              NaN            0.0\n",
              "...             ...         ...  ...              ...            ...\n",
              "5095260         NaN         NaN  ...              NaN            0.0\n",
              "5095264         NaN         NaN  ...              NaN            0.0\n",
              "5095265         NaN         NaN  ...              NaN            0.0\n",
              "5095266         NaN         NaN  ...              NaN            0.0\n",
              "5095267         NaN         NaN  ...              NaN            0.0\n",
              "\n",
              "[1165216 rows x 6 columns]"
            ]
          },
          "metadata": {
            "tags": []
          },
          "execution_count": 45
        }
      ]
    },
    {
      "cell_type": "code",
      "metadata": {
        "id": "8jFzMLPQ4lci",
        "outputId": "da9d9251-86a8-4e50-a242-f20fdc0566f1",
        "colab": {
          "base_uri": "https://localhost:8080/",
          "height": 195
        }
      },
      "source": [
        "dados_sem_notas_zero = dados[provas].query(\"NU_NOTA_TOTAL != 0\")\n",
        "dados_sem_notas_zero.head()"
      ],
      "execution_count": 46,
      "outputs": [
        {
          "output_type": "execute_result",
          "data": {
            "text/html": [
              "<div>\n",
              "<style scoped>\n",
              "    .dataframe tbody tr th:only-of-type {\n",
              "        vertical-align: middle;\n",
              "    }\n",
              "\n",
              "    .dataframe tbody tr th {\n",
              "        vertical-align: top;\n",
              "    }\n",
              "\n",
              "    .dataframe thead th {\n",
              "        text-align: right;\n",
              "    }\n",
              "</style>\n",
              "<table border=\"1\" class=\"dataframe\">\n",
              "  <thead>\n",
              "    <tr style=\"text-align: right;\">\n",
              "      <th></th>\n",
              "      <th>NU_NOTA_CN</th>\n",
              "      <th>NU_NOTA_CH</th>\n",
              "      <th>NU_NOTA_MT</th>\n",
              "      <th>NU_NOTA_LC</th>\n",
              "      <th>NU_NOTA_REDACAO</th>\n",
              "      <th>NU_NOTA_TOTAL</th>\n",
              "    </tr>\n",
              "  </thead>\n",
              "  <tbody>\n",
              "    <tr>\n",
              "      <th>0</th>\n",
              "      <td>472.9</td>\n",
              "      <td>466.0</td>\n",
              "      <td>369.1</td>\n",
              "      <td>497.3</td>\n",
              "      <td>780.0</td>\n",
              "      <td>2585.3</td>\n",
              "    </tr>\n",
              "    <tr>\n",
              "      <th>1</th>\n",
              "      <td>358.9</td>\n",
              "      <td>495.4</td>\n",
              "      <td>416.5</td>\n",
              "      <td>482.3</td>\n",
              "      <td>600.0</td>\n",
              "      <td>2353.1</td>\n",
              "    </tr>\n",
              "    <tr>\n",
              "      <th>2</th>\n",
              "      <td>574.2</td>\n",
              "      <td>538.7</td>\n",
              "      <td>571.5</td>\n",
              "      <td>582.6</td>\n",
              "      <td>640.0</td>\n",
              "      <td>2907.0</td>\n",
              "    </tr>\n",
              "    <tr>\n",
              "      <th>5</th>\n",
              "      <td>522.0</td>\n",
              "      <td>592.6</td>\n",
              "      <td>605.3</td>\n",
              "      <td>582.0</td>\n",
              "      <td>580.0</td>\n",
              "      <td>2881.9</td>\n",
              "    </tr>\n",
              "    <tr>\n",
              "      <th>6</th>\n",
              "      <td>407.4</td>\n",
              "      <td>480.1</td>\n",
              "      <td>581.5</td>\n",
              "      <td>464.3</td>\n",
              "      <td>360.0</td>\n",
              "      <td>2293.3</td>\n",
              "    </tr>\n",
              "  </tbody>\n",
              "</table>\n",
              "</div>"
            ],
            "text/plain": [
              "   NU_NOTA_CN  NU_NOTA_CH  ...  NU_NOTA_REDACAO  NU_NOTA_TOTAL\n",
              "0       472.9       466.0  ...            780.0         2585.3\n",
              "1       358.9       495.4  ...            600.0         2353.1\n",
              "2       574.2       538.7  ...            640.0         2907.0\n",
              "5       522.0       592.6  ...            580.0         2881.9\n",
              "6       407.4       480.1  ...            360.0         2293.3\n",
              "\n",
              "[5 rows x 6 columns]"
            ]
          },
          "metadata": {
            "tags": []
          },
          "execution_count": 46
        }
      ]
    },
    {
      "cell_type": "code",
      "metadata": {
        "id": "lZeI36nPj9oq",
        "outputId": "28833838-87e0-4059-c211-579afdfe5faf",
        "colab": {
          "base_uri": "https://localhost:8080/",
          "height": 386
        }
      },
      "source": [
        "sns.displot(dados_sem_notas_zero, x =\"NU_NOTA_TOTAL\")"
      ],
      "execution_count": 64,
      "outputs": [
        {
          "output_type": "execute_result",
          "data": {
            "text/plain": [
              "<seaborn.axisgrid.FacetGrid at 0x7fc412590320>"
            ]
          },
          "metadata": {
            "tags": []
          },
          "execution_count": 64
        },
        {
          "output_type": "display_data",
          "data": {
            "image/png": "[encoded data removed]",
            "text/plain": [
              "<Figure size 360x360 with 1 Axes>"
            ]
          },
          "metadata": {
            "tags": [],
            "needs_background": "light"
          }
        }
      ]
    },
    {
      "cell_type": "code",
      "metadata": {
        "id": "GKw2G33sUiHQ",
        "outputId": "0d6d5fc0-c82e-42ca-ee8c-14e00b1a00f8",
        "colab": {
          "base_uri": "https://localhost:8080/",
          "height": 215
        }
      },
      "source": [
        "#candidatos que obtiveram \"NU_NOTA_TOTAL != 0\"\n",
        "\n",
        "dados_sem_notas_zero = dados.query(\"NU_NOTA_TOTAL != 0\")\n",
        "dados_sem_notas_zero.head()"
      ],
      "execution_count": 47,
      "outputs": [
        {
          "output_type": "execute_result",
          "data": {
            "text/html": [
              "<div>\n",
              "<style scoped>\n",
              "    .dataframe tbody tr th:only-of-type {\n",
              "        vertical-align: middle;\n",
              "    }\n",
              "\n",
              "    .dataframe tbody tr th {\n",
              "        vertical-align: top;\n",
              "    }\n",
              "\n",
              "    .dataframe thead th {\n",
              "        text-align: right;\n",
              "    }\n",
              "</style>\n",
              "<table border=\"1\" class=\"dataframe\">\n",
              "  <thead>\n",
              "    <tr style=\"text-align: right;\">\n",
              "      <th></th>\n",
              "      <th>NU_INSCRICAO</th>\n",
              "      <th>NO_MUNICIPIO_RESIDENCIA</th>\n",
              "      <th>SG_UF_RESIDENCIA</th>\n",
              "      <th>NU_IDADE</th>\n",
              "      <th>TP_SEXO</th>\n",
              "      <th>TP_ESTADO_CIVIL</th>\n",
              "      <th>TP_COR_RACA</th>\n",
              "      <th>NO_MUNICIPIO_NASCIMENTO</th>\n",
              "      <th>SG_UF_NASCIMENTO</th>\n",
              "      <th>TP_ST_CONCLUSAO</th>\n",
              "      <th>TP_ANO_CONCLUIU</th>\n",
              "      <th>TP_ESCOLA</th>\n",
              "      <th>TP_ENSINO</th>\n",
              "      <th>IN_TREINEIRO</th>\n",
              "      <th>NO_MUNICIPIO_ESC</th>\n",
              "      <th>SG_UF_ESC</th>\n",
              "      <th>SG_UF_PROVA</th>\n",
              "      <th>TP_PRESENCA_CN</th>\n",
              "      <th>TP_PRESENCA_CH</th>\n",
              "      <th>TP_PRESENCA_LC</th>\n",
              "      <th>TP_PRESENCA_MT</th>\n",
              "      <th>NU_NOTA_CN</th>\n",
              "      <th>NU_NOTA_CH</th>\n",
              "      <th>NU_NOTA_LC</th>\n",
              "      <th>NU_NOTA_MT</th>\n",
              "      <th>TP_LINGUA</th>\n",
              "      <th>NU_NOTA_REDACAO</th>\n",
              "      <th>Q001</th>\n",
              "      <th>Q002</th>\n",
              "      <th>Q003</th>\n",
              "      <th>Q004</th>\n",
              "      <th>Q005</th>\n",
              "      <th>Q006</th>\n",
              "      <th>Q007</th>\n",
              "      <th>Q008</th>\n",
              "      <th>Q009</th>\n",
              "      <th>Q010</th>\n",
              "      <th>Q011</th>\n",
              "      <th>Q012</th>\n",
              "      <th>Q013</th>\n",
              "      <th>Q014</th>\n",
              "      <th>Q015</th>\n",
              "      <th>Q016</th>\n",
              "      <th>Q017</th>\n",
              "      <th>Q018</th>\n",
              "      <th>Q019</th>\n",
              "      <th>Q020</th>\n",
              "      <th>Q021</th>\n",
              "      <th>Q022</th>\n",
              "      <th>Q023</th>\n",
              "      <th>Q024</th>\n",
              "      <th>Q025</th>\n",
              "      <th>NU_NOTA_TOTAL</th>\n",
              "    </tr>\n",
              "  </thead>\n",
              "  <tbody>\n",
              "    <tr>\n",
              "      <th>0</th>\n",
              "      <td>190001004627</td>\n",
              "      <td>Santarém</td>\n",
              "      <td>PA</td>\n",
              "      <td>21</td>\n",
              "      <td>M</td>\n",
              "      <td>1</td>\n",
              "      <td>3</td>\n",
              "      <td>NaN</td>\n",
              "      <td>NaN</td>\n",
              "      <td>1</td>\n",
              "      <td>3</td>\n",
              "      <td>1</td>\n",
              "      <td>NaN</td>\n",
              "      <td>0</td>\n",
              "      <td>NaN</td>\n",
              "      <td>NaN</td>\n",
              "      <td>PA</td>\n",
              "      <td>1</td>\n",
              "      <td>1</td>\n",
              "      <td>1</td>\n",
              "      <td>1</td>\n",
              "      <td>472.9</td>\n",
              "      <td>466.0</td>\n",
              "      <td>497.3</td>\n",
              "      <td>369.1</td>\n",
              "      <td>0</td>\n",
              "      <td>780.0</td>\n",
              "      <td>D</td>\n",
              "      <td>E</td>\n",
              "      <td>A</td>\n",
              "      <td>A</td>\n",
              "      <td>7</td>\n",
              "      <td>B</td>\n",
              "      <td>A</td>\n",
              "      <td>B</td>\n",
              "      <td>C</td>\n",
              "      <td>A</td>\n",
              "      <td>A</td>\n",
              "      <td>B</td>\n",
              "      <td>A</td>\n",
              "      <td>B</td>\n",
              "      <td>A</td>\n",
              "      <td>A</td>\n",
              "      <td>A</td>\n",
              "      <td>A</td>\n",
              "      <td>C</td>\n",
              "      <td>B</td>\n",
              "      <td>A</td>\n",
              "      <td>D</td>\n",
              "      <td>A</td>\n",
              "      <td>B</td>\n",
              "      <td>A</td>\n",
              "      <td>2585.3</td>\n",
              "    </tr>\n",
              "    <tr>\n",
              "      <th>1</th>\n",
              "      <td>190001004628</td>\n",
              "      <td>Mãe do Rio</td>\n",
              "      <td>PA</td>\n",
              "      <td>16</td>\n",
              "      <td>F</td>\n",
              "      <td>1</td>\n",
              "      <td>3</td>\n",
              "      <td>Paragominas</td>\n",
              "      <td>PA</td>\n",
              "      <td>3</td>\n",
              "      <td>0</td>\n",
              "      <td>1</td>\n",
              "      <td>NaN</td>\n",
              "      <td>1</td>\n",
              "      <td>NaN</td>\n",
              "      <td>NaN</td>\n",
              "      <td>PA</td>\n",
              "      <td>1</td>\n",
              "      <td>1</td>\n",
              "      <td>1</td>\n",
              "      <td>1</td>\n",
              "      <td>358.9</td>\n",
              "      <td>495.4</td>\n",
              "      <td>482.3</td>\n",
              "      <td>416.5</td>\n",
              "      <td>1</td>\n",
              "      <td>600.0</td>\n",
              "      <td>D</td>\n",
              "      <td>E</td>\n",
              "      <td>A</td>\n",
              "      <td>A</td>\n",
              "      <td>5</td>\n",
              "      <td>B</td>\n",
              "      <td>A</td>\n",
              "      <td>B</td>\n",
              "      <td>C</td>\n",
              "      <td>A</td>\n",
              "      <td>A</td>\n",
              "      <td>B</td>\n",
              "      <td>A</td>\n",
              "      <td>B</td>\n",
              "      <td>A</td>\n",
              "      <td>A</td>\n",
              "      <td>A</td>\n",
              "      <td>A</td>\n",
              "      <td>B</td>\n",
              "      <td>B</td>\n",
              "      <td>A</td>\n",
              "      <td>B</td>\n",
              "      <td>A</td>\n",
              "      <td>A</td>\n",
              "      <td>A</td>\n",
              "      <td>2353.1</td>\n",
              "    </tr>\n",
              "    <tr>\n",
              "      <th>2</th>\n",
              "      <td>190001004629</td>\n",
              "      <td>Paragominas</td>\n",
              "      <td>PA</td>\n",
              "      <td>18</td>\n",
              "      <td>F</td>\n",
              "      <td>1</td>\n",
              "      <td>1</td>\n",
              "      <td>Paragominas</td>\n",
              "      <td>PA</td>\n",
              "      <td>2</td>\n",
              "      <td>0</td>\n",
              "      <td>3</td>\n",
              "      <td>1.0</td>\n",
              "      <td>0</td>\n",
              "      <td>Paragominas</td>\n",
              "      <td>PA</td>\n",
              "      <td>PA</td>\n",
              "      <td>1</td>\n",
              "      <td>1</td>\n",
              "      <td>1</td>\n",
              "      <td>1</td>\n",
              "      <td>574.2</td>\n",
              "      <td>538.7</td>\n",
              "      <td>582.6</td>\n",
              "      <td>571.5</td>\n",
              "      <td>0</td>\n",
              "      <td>640.0</td>\n",
              "      <td>H</td>\n",
              "      <td>E</td>\n",
              "      <td>A</td>\n",
              "      <td>D</td>\n",
              "      <td>3</td>\n",
              "      <td>C</td>\n",
              "      <td>D</td>\n",
              "      <td>E</td>\n",
              "      <td>E</td>\n",
              "      <td>C</td>\n",
              "      <td>A</td>\n",
              "      <td>B</td>\n",
              "      <td>C</td>\n",
              "      <td>B</td>\n",
              "      <td>A</td>\n",
              "      <td>B</td>\n",
              "      <td>A</td>\n",
              "      <td>A</td>\n",
              "      <td>D</td>\n",
              "      <td>B</td>\n",
              "      <td>B</td>\n",
              "      <td>D</td>\n",
              "      <td>A</td>\n",
              "      <td>C</td>\n",
              "      <td>B</td>\n",
              "      <td>2907.0</td>\n",
              "    </tr>\n",
              "    <tr>\n",
              "      <th>5</th>\n",
              "      <td>190001004632</td>\n",
              "      <td>Ananindeua</td>\n",
              "      <td>PA</td>\n",
              "      <td>31</td>\n",
              "      <td>M</td>\n",
              "      <td>1</td>\n",
              "      <td>1</td>\n",
              "      <td>Belém</td>\n",
              "      <td>PA</td>\n",
              "      <td>1</td>\n",
              "      <td>7</td>\n",
              "      <td>1</td>\n",
              "      <td>1.0</td>\n",
              "      <td>0</td>\n",
              "      <td>NaN</td>\n",
              "      <td>NaN</td>\n",
              "      <td>PA</td>\n",
              "      <td>1</td>\n",
              "      <td>1</td>\n",
              "      <td>1</td>\n",
              "      <td>1</td>\n",
              "      <td>522.0</td>\n",
              "      <td>592.6</td>\n",
              "      <td>582.0</td>\n",
              "      <td>605.3</td>\n",
              "      <td>1</td>\n",
              "      <td>580.0</td>\n",
              "      <td>C</td>\n",
              "      <td>C</td>\n",
              "      <td>C</td>\n",
              "      <td>D</td>\n",
              "      <td>5</td>\n",
              "      <td>C</td>\n",
              "      <td>A</td>\n",
              "      <td>B</td>\n",
              "      <td>C</td>\n",
              "      <td>A</td>\n",
              "      <td>A</td>\n",
              "      <td>B</td>\n",
              "      <td>A</td>\n",
              "      <td>A</td>\n",
              "      <td>A</td>\n",
              "      <td>A</td>\n",
              "      <td>A</td>\n",
              "      <td>A</td>\n",
              "      <td>B</td>\n",
              "      <td>A</td>\n",
              "      <td>A</td>\n",
              "      <td>D</td>\n",
              "      <td>A</td>\n",
              "      <td>A</td>\n",
              "      <td>A</td>\n",
              "      <td>2881.9</td>\n",
              "    </tr>\n",
              "    <tr>\n",
              "      <th>6</th>\n",
              "      <td>190001004633</td>\n",
              "      <td>Marabá</td>\n",
              "      <td>PA</td>\n",
              "      <td>30</td>\n",
              "      <td>F</td>\n",
              "      <td>2</td>\n",
              "      <td>3</td>\n",
              "      <td>Marabá</td>\n",
              "      <td>PA</td>\n",
              "      <td>1</td>\n",
              "      <td>10</td>\n",
              "      <td>1</td>\n",
              "      <td>1.0</td>\n",
              "      <td>0</td>\n",
              "      <td>NaN</td>\n",
              "      <td>NaN</td>\n",
              "      <td>PA</td>\n",
              "      <td>1</td>\n",
              "      <td>1</td>\n",
              "      <td>1</td>\n",
              "      <td>1</td>\n",
              "      <td>407.4</td>\n",
              "      <td>480.1</td>\n",
              "      <td>464.3</td>\n",
              "      <td>581.5</td>\n",
              "      <td>1</td>\n",
              "      <td>360.0</td>\n",
              "      <td>B</td>\n",
              "      <td>B</td>\n",
              "      <td>A</td>\n",
              "      <td>A</td>\n",
              "      <td>4</td>\n",
              "      <td>C</td>\n",
              "      <td>A</td>\n",
              "      <td>B</td>\n",
              "      <td>B</td>\n",
              "      <td>A</td>\n",
              "      <td>B</td>\n",
              "      <td>B</td>\n",
              "      <td>A</td>\n",
              "      <td>A</td>\n",
              "      <td>A</td>\n",
              "      <td>A</td>\n",
              "      <td>A</td>\n",
              "      <td>A</td>\n",
              "      <td>B</td>\n",
              "      <td>A</td>\n",
              "      <td>A</td>\n",
              "      <td>B</td>\n",
              "      <td>A</td>\n",
              "      <td>A</td>\n",
              "      <td>B</td>\n",
              "      <td>2293.3</td>\n",
              "    </tr>\n",
              "  </tbody>\n",
              "</table>\n",
              "</div>"
            ],
            "text/plain": [
              "   NU_INSCRICAO NO_MUNICIPIO_RESIDENCIA  ... Q025  NU_NOTA_TOTAL\n",
              "0  190001004627                Santarém  ...    A         2585.3\n",
              "1  190001004628              Mãe do Rio  ...    A         2353.1\n",
              "2  190001004629             Paragominas  ...    B         2907.0\n",
              "5  190001004632              Ananindeua  ...    A         2881.9\n",
              "6  190001004633                  Marabá  ...    B         2293.3\n",
              "\n",
              "[5 rows x 53 columns]"
            ]
          },
          "metadata": {
            "tags": []
          },
          "execution_count": 47
        }
      ]
    },
    {
      "cell_type": "code",
      "metadata": {
        "id": "fUEzdhqiXBpv",
        "outputId": "484ab6de-6753-4902-e378-99b459bee8b1",
        "colab": {
          "base_uri": "https://localhost:8080/",
          "height": 421
        }
      },
      "source": [
        "# boxplot do somatório das notas dos alunos que não tiveram \"NU_NOTA_TOTAL != 0\"\n",
        "\n",
        "plt.figure(figsize=(10, 6))\n",
        "sns.boxplot(x=\"Q006\", y = \"NU_NOTA_TOTAL\", data = dados_sem_notas_zero, order = renda_ordenada)\n",
        "plt.title(\"Boxplot das notas de total pela renda\")"
      ],
      "execution_count": 48,
      "outputs": [
        {
          "output_type": "execute_result",
          "data": {
            "text/plain": [
              "Text(0.5, 1.0, 'Boxplot das notas de total pela renda')"
            ]
          },
          "metadata": {
            "tags": []
          },
          "execution_count": 48
        },
        {
          "output_type": "display_data",
          "data": {
            "image/png": "[encoded data removed]",
            "text/plain": [
              "<Figure size 720x432 with 1 Axes>"
            ]
          },
          "metadata": {
            "tags": [],
            "needs_background": "light"
          }
        }
      ]
    },
    {
      "cell_type": "code",
      "metadata": {
        "id": "OeFkN4ttXiOH",
        "outputId": "2ab25a1e-899b-49a0-cc6f-2749a98d63c1",
        "colab": {
          "base_uri": "https://localhost:8080/",
          "height": 414
        }
      },
      "source": [
        "plt.figure(figsize=(14, 8))\n",
        "sns.boxplot(x=\"Q006\", y = \"NU_NOTA_TOTAL\", data = dados_sem_notas_zero, \n",
        "            hue = \"IN_TREINEIRO\", order = renda_ordenada)\n",
        "# hue destaca a informação que desejamos obter informação\n",
        "plt.title(\"Boxplot das notas de total pela renda\")"
      ],
      "execution_count": 49,
      "outputs": [
        {
          "output_type": "execute_result",
          "data": {
            "text/plain": [
              "Text(0.5, 1.0, 'Boxplot das notas de total pela renda')"
            ]
          },
          "metadata": {
            "tags": []
          },
          "execution_count": 49
        },
        {
          "output_type": "display_data",
          "data": {
            "image/png": "[encoded data removed]",
            "text/plain": [
              "<Figure size 1008x576 with 1 Axes>"
            ]
          },
          "metadata": {
            "tags": [],
            "needs_background": "light"
          }
        }
      ]
    },
    {
      "cell_type": "markdown",
      "metadata": {
        "id": "FH5KDYQDM_Wi"
      },
      "source": [
        "MEGA DESAFIO DA THAINÁ: Pegar a amostra completa dos alunos de 13 e 14 anos\n",
        "\n",
        "Desafio do Gui bonzinho: aumentar a amostra para alunos menor de idade e compara a proporção por estado.\n",
        "\n",
        "Desafio 3: Criar uma função para plotar o boxplot do seaborn\n",
        "\n",
        "Desafio 4: Verificar se quem zerou a prova foi eliminado ou não estava presente\n",
        "\n",
        "Desafio 5: Quem é eliminado tira zero ou será NaN (não teve registro de notas)\n",
        "\n",
        "DEsafio 6: Verificar a proporção dos participantes de rendas mais altas e mais baixas como treineiro e não treineiro.\n",
        "\n",
        "Desafio 7: Fazer o mesmo boxplot olhando para a questão 25 (tem internet ou não) e fazer uma reflexão sobre o assunto e o contexto de pandemia."
      ]
    },
    {
      "cell_type": "markdown",
      "metadata": {
        "id": "HEYqPdvIwTGz"
      },
      "source": [
        "# Solução dos desafios"
      ]
    },
    {
      "cell_type": "markdown",
      "metadata": {
        "id": "Es5hYKXhw0N2"
      },
      "source": [
        "##Desafio do Gui bonzinho: aumentar a amostra para alunos menor de idade e comparar a proporção por estado."
      ]
    },
    {
      "cell_type": "code",
      "metadata": {
        "id": "GU7d-UIIletd",
        "outputId": "2cc06257-365c-42f3-ad57-3d80b461b82f",
        "colab": {
          "base_uri": "https://localhost:8080/",
          "height": 487
        }
      },
      "source": [
        "dados.query('NU_IDADE < 18')['SG_UF_RESIDENCIA'].value_counts(normalize=True).sort_values(ascending=False)*100"
      ],
      "execution_count": 70,
      "outputs": [
        {
          "output_type": "execute_result",
          "data": {
            "text/plain": [
              "SP   23.29\n",
              "MG   10.06\n",
              "CE    6.41\n",
              "BA    6.20\n",
              "PR    5.62\n",
              "PE    5.53\n",
              "RJ    5.39\n",
              "GO    4.12\n",
              "PA    4.01\n",
              "MA    3.82\n",
              "RS    3.26\n",
              "SC    2.65\n",
              "PB    2.50\n",
              "PI    2.20\n",
              "MT    1.84\n",
              "ES    1.64\n",
              "DF    1.49\n",
              "MS    1.46\n",
              "RN    1.46\n",
              "AM    1.46\n",
              "AL    1.37\n",
              "SE    1.31\n",
              "TO    0.99\n",
              "RO    0.77\n",
              "AP    0.51\n",
              "AC    0.45\n",
              "RR    0.21\n",
              "Name: SG_UF_RESIDENCIA, dtype: float64"
            ]
          },
          "metadata": {
            "tags": []
          },
          "execution_count": 70
        }
      ]
    },
    {
      "cell_type": "markdown",
      "metadata": {
        "id": "d8i0yb1uyArk"
      },
      "source": [
        "##Desafio 3: Criar uma função para plotar o boxplot do seaborn"
      ]
    },
    {
      "cell_type": "code",
      "metadata": {
        "id": "LU7mrGoPyJPD"
      },
      "source": [
        "def plot_box(x,y):\n",
        "    plt.figure(figsize=(10, 6))\n",
        "    sns.boxplot(x=x, y=y, data=dados, order=renda_ordenada)"
      ],
      "execution_count": 71,
      "outputs": []
    },
    {
      "cell_type": "code",
      "metadata": {
        "id": "i20DtHvJyrEG",
        "outputId": "6769cecf-8dad-428c-f1cf-449b57116f12",
        "colab": {
          "base_uri": "https://localhost:8080/",
          "height": 388
        }
      },
      "source": [
        "plot_box('Q006', 'NU_NOTA_LC')"
      ],
      "execution_count": 73,
      "outputs": [
        {
          "output_type": "display_data",
          "data": {
            "image/png": "[encoded data removed]",
            "text/plain": [
              "<Figure size 720x432 with 1 Axes>"
            ]
          },
          "metadata": {
            "tags": [],
            "needs_background": "light"
          }
        }
      ]
    },
    {
      "cell_type": "markdown",
      "metadata": {
        "id": "XyLQho1czB9p"
      },
      "source": [
        "##Desafio 4: Verificar se quem zerou a prova foi eliminado ou não estava presente"
      ]
    },
    {
      "cell_type": "code",
      "metadata": {
        "id": "dPUEN4imzIJA",
        "outputId": "ca7104b7-464b-4d68-a92c-0c4f5665c046",
        "colab": {
          "base_uri": "https://localhost:8080/",
          "height": 34
        }
      },
      "source": [
        "#total de quem tirou zero\n",
        "len(dados.query('NU_NOTA_TOTAL == 0'))"
      ],
      "execution_count": 74,
      "outputs": [
        {
          "output_type": "execute_result",
          "data": {
            "text/plain": [
              "1165216"
            ]
          },
          "metadata": {
            "tags": []
          },
          "execution_count": 74
        }
      ]
    },
    {
      "cell_type": "code",
      "metadata": {
        "id": "Y496JAqGzb3g",
        "outputId": "72b7c0bd-ac40-48c5-a019-9a4bac9bc014",
        "colab": {
          "base_uri": "https://localhost:8080/",
          "height": 34
        }
      },
      "source": [
        "#ausente em alguma prova\n",
        "len(dados.query('NU_NOTA_TOTAL == 0').query('TP_PRESENCA_CN == 0 or TP_PRESENCA_CH == 0 or TP_PRESENCA_LC == 0 or TP_PRESENCA_MT == 0'))"
      ],
      "execution_count": 75,
      "outputs": [
        {
          "output_type": "execute_result",
          "data": {
            "text/plain": [
              "1165177"
            ]
          },
          "metadata": {
            "tags": []
          },
          "execution_count": 75
        }
      ]
    },
    {
      "cell_type": "code",
      "metadata": {
        "id": "DHILFtf1zpS6",
        "outputId": "14db2814-b2cf-465d-df8b-86f57fde9b22",
        "colab": {
          "base_uri": "https://localhost:8080/",
          "height": 34
        }
      },
      "source": [
        "#eliminado em alguma prova\n",
        "len(dados.query('NU_NOTA_TOTAL == 0').query('TP_PRESENCA_CN == 2 or TP_PRESENCA_CH == 2 or TP_PRESENCA_LC == 2 or TP_PRESENCA_MT == 2'))"
      ],
      "execution_count": 76,
      "outputs": [
        {
          "output_type": "execute_result",
          "data": {
            "text/plain": [
              "3694"
            ]
          },
          "metadata": {
            "tags": []
          },
          "execution_count": 76
        }
      ]
    },
    {
      "cell_type": "markdown",
      "metadata": {
        "id": "EYhoYUCN0RlZ"
      },
      "source": [
        "##Desafio 5: Quem é eliminado tira zero ou será NaN (não teve registro de notas)"
      ]
    },
    {
      "cell_type": "code",
      "metadata": {
        "id": "QYiexMA00a1s",
        "outputId": "dc0e4f1a-c769-4917-9f97-545b93a6469a",
        "colab": {
          "base_uri": "https://localhost:8080/",
          "height": 34
        }
      },
      "source": [
        "#ausente na prova de CN \n",
        "dados.query('TP_PRESENCA_CN == 0')['NU_NOTA_CN'].iloc[0]"
      ],
      "execution_count": 77,
      "outputs": [
        {
          "output_type": "execute_result",
          "data": {
            "text/plain": [
              "nan"
            ]
          },
          "metadata": {
            "tags": []
          },
          "execution_count": 77
        }
      ]
    },
    {
      "cell_type": "code",
      "metadata": {
        "id": "0dm5oTpQ0oB4",
        "outputId": "af257e25-419c-467c-cfa9-a8ed066030fc",
        "colab": {
          "base_uri": "https://localhost:8080/",
          "height": 34
        }
      },
      "source": [
        "#ausente na prova de CN \n",
        "dados.query('TP_PRESENCA_CN == 0')['NU_NOTA_CN'].iloc[0]"
      ],
      "execution_count": 78,
      "outputs": [
        {
          "output_type": "execute_result",
          "data": {
            "text/plain": [
              "nan"
            ]
          },
          "metadata": {
            "tags": []
          },
          "execution_count": 78
        }
      ]
    },
    {
      "cell_type": "markdown",
      "metadata": {
        "id": "MzfPLWbZ0swi"
      },
      "source": [
        "##Desafio 6: Verificar a proporção dos participantes de rendas mais altas e mais baixas como treineiro e não treineiro."
      ]
    },
    {
      "cell_type": "code",
      "metadata": {
        "id": "9ShK5yqc0xBa",
        "outputId": "6717f4c1-013b-4481-fa59-7619b061f045",
        "colab": {
          "base_uri": "https://localhost:8080/",
          "height": 498
        }
      },
      "source": [
        "dados_nao_treineiros = dados.query('IN_TREINEIRO == 0')['Q006'].value_counts(normalize=True)\n",
        "dados_treineiros = dados.query('IN_TREINEIRO == 1')['Q006'].value_counts(normalize=True)\n",
        "\n",
        "df = pd.DataFrame({'Treineiros': dados_nao_treineiros,\n",
        "                   'Não Treineiros': dados_treineiros})\n",
        "\n",
        "df.plot.bar(figsize=(20,8))"
      ],
      "execution_count": 80,
      "outputs": [
        {
          "output_type": "execute_result",
          "data": {
            "text/plain": [
              "<matplotlib.axes._subplots.AxesSubplot at 0x7fc40988ac88>"
            ]
          },
          "metadata": {
            "tags": []
          },
          "execution_count": 80
        },
        {
          "output_type": "display_data",
          "data": {
            "image/png": "[encoded data removed]",
            "text/plain": [
              "<Figure size 1440x576 with 1 Axes>"
            ]
          },
          "metadata": {
            "tags": [],
            "needs_background": "light"
          }
        }
      ]
    },
    {
      "cell_type": "markdown",
      "metadata": {
        "id": "SPj-rOE404sE"
      },
      "source": [
        "##Desafio 7: Fazer o mesmo boxplot olhando para a questão 25 (tem internet ou não) e fazer uma reflexão sobre o assunto e o contexto de pandemia."
      ]
    },
    {
      "cell_type": "code",
      "metadata": {
        "id": "wV_i5aYi08JF",
        "outputId": "bde7db62-a7b7-40bb-d5a1-b4bde26fbe8f",
        "colab": {
          "base_uri": "https://localhost:8080/",
          "height": 530
        }
      },
      "source": [
        "plt.figure(figsize=(15,8))\n",
        "plt.title(\"Nota TOTAL pela Renda & Internet\")\n",
        "sns.boxplot(x=\"Q025\", y=\"NU_NOTA_TOTAL\", data=dados_sem_notas_zero)\n",
        "\n",
        "# Não possui acesso a internet (A)\n",
        "# Possui acesso a internet (B)"
      ],
      "execution_count": 81,
      "outputs": [
        {
          "output_type": "execute_result",
          "data": {
            "text/plain": [
              "<matplotlib.axes._subplots.AxesSubplot at 0x7fc4099363c8>"
            ]
          },
          "metadata": {
            "tags": []
          },
          "execution_count": 81
        },
        {
          "output_type": "display_data",
          "data": {
            "image/png": "[encoded data removed]",
            "text/plain": [
              "<Figure size 1080x576 with 1 Axes>"
            ]
          },
          "metadata": {
            "tags": [],
            "needs_background": "light"
          }
        }
      ]
    }
  ]
}